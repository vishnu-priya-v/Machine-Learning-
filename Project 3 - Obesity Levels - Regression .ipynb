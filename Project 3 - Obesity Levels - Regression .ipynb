{
 "cells": [
  {
   "cell_type": "markdown",
   "id": "4274a8ed",
   "metadata": {},
   "source": [
    "#### OBESITY LEVELS BASED ON DIFFERENT FACTORS\n",
    "    --> This dataset include data for the estimation of obesity levels in individuals based on different factors"
   ]
  },
  {
   "cell_type": "code",
   "execution_count": 123,
   "id": "75f6b121",
   "metadata": {},
   "outputs": [],
   "source": [
    "import pandas as pd\n",
    "import numpy as np\n",
    "import matplotlib.pyplot as plt\n",
    "import seaborn as sns\n",
    "\n",
    "from sklearn.model_selection import train_test_split # For spliting data\n",
    "\n",
    "import warnings\n",
    "warnings.filterwarnings(\"ignore\")"
   ]
  },
  {
   "cell_type": "code",
   "execution_count": 124,
   "id": "639ef885",
   "metadata": {},
   "outputs": [
    {
     "data": {
      "text/html": [
       "<div>\n",
       "<style scoped>\n",
       "    .dataframe tbody tr th:only-of-type {\n",
       "        vertical-align: middle;\n",
       "    }\n",
       "\n",
       "    .dataframe tbody tr th {\n",
       "        vertical-align: top;\n",
       "    }\n",
       "\n",
       "    .dataframe thead th {\n",
       "        text-align: right;\n",
       "    }\n",
       "</style>\n",
       "<table border=\"1\" class=\"dataframe\">\n",
       "  <thead>\n",
       "    <tr style=\"text-align: right;\">\n",
       "      <th></th>\n",
       "      <th>Gender</th>\n",
       "      <th>Age</th>\n",
       "      <th>Height</th>\n",
       "      <th>Weight</th>\n",
       "      <th>family_history_with_overweight</th>\n",
       "      <th>FAVC</th>\n",
       "      <th>FCVC</th>\n",
       "      <th>NCP</th>\n",
       "      <th>CAEC</th>\n",
       "      <th>SMOKE</th>\n",
       "      <th>CH2O</th>\n",
       "      <th>SCC</th>\n",
       "      <th>FAF</th>\n",
       "      <th>TUE</th>\n",
       "      <th>CALC</th>\n",
       "      <th>MTRANS</th>\n",
       "      <th>NObeyesdad</th>\n",
       "    </tr>\n",
       "  </thead>\n",
       "  <tbody>\n",
       "    <tr>\n",
       "      <th>0</th>\n",
       "      <td>Female</td>\n",
       "      <td>21.000000</td>\n",
       "      <td>1.620000</td>\n",
       "      <td>64.000000</td>\n",
       "      <td>yes</td>\n",
       "      <td>no</td>\n",
       "      <td>2.0</td>\n",
       "      <td>3.0</td>\n",
       "      <td>Sometimes</td>\n",
       "      <td>no</td>\n",
       "      <td>2.000000</td>\n",
       "      <td>no</td>\n",
       "      <td>0.000000</td>\n",
       "      <td>1.000000</td>\n",
       "      <td>no</td>\n",
       "      <td>Public_Transportation</td>\n",
       "      <td>Normal_Weight</td>\n",
       "    </tr>\n",
       "    <tr>\n",
       "      <th>1</th>\n",
       "      <td>Female</td>\n",
       "      <td>21.000000</td>\n",
       "      <td>1.520000</td>\n",
       "      <td>56.000000</td>\n",
       "      <td>yes</td>\n",
       "      <td>no</td>\n",
       "      <td>3.0</td>\n",
       "      <td>3.0</td>\n",
       "      <td>Sometimes</td>\n",
       "      <td>yes</td>\n",
       "      <td>3.000000</td>\n",
       "      <td>yes</td>\n",
       "      <td>3.000000</td>\n",
       "      <td>0.000000</td>\n",
       "      <td>Sometimes</td>\n",
       "      <td>Public_Transportation</td>\n",
       "      <td>Normal_Weight</td>\n",
       "    </tr>\n",
       "    <tr>\n",
       "      <th>2</th>\n",
       "      <td>Male</td>\n",
       "      <td>23.000000</td>\n",
       "      <td>1.800000</td>\n",
       "      <td>77.000000</td>\n",
       "      <td>yes</td>\n",
       "      <td>no</td>\n",
       "      <td>2.0</td>\n",
       "      <td>3.0</td>\n",
       "      <td>Sometimes</td>\n",
       "      <td>no</td>\n",
       "      <td>2.000000</td>\n",
       "      <td>no</td>\n",
       "      <td>2.000000</td>\n",
       "      <td>1.000000</td>\n",
       "      <td>Frequently</td>\n",
       "      <td>Public_Transportation</td>\n",
       "      <td>Normal_Weight</td>\n",
       "    </tr>\n",
       "    <tr>\n",
       "      <th>3</th>\n",
       "      <td>Male</td>\n",
       "      <td>27.000000</td>\n",
       "      <td>1.800000</td>\n",
       "      <td>87.000000</td>\n",
       "      <td>no</td>\n",
       "      <td>no</td>\n",
       "      <td>3.0</td>\n",
       "      <td>3.0</td>\n",
       "      <td>Sometimes</td>\n",
       "      <td>no</td>\n",
       "      <td>2.000000</td>\n",
       "      <td>no</td>\n",
       "      <td>2.000000</td>\n",
       "      <td>0.000000</td>\n",
       "      <td>Frequently</td>\n",
       "      <td>Walking</td>\n",
       "      <td>Overweight_Level_I</td>\n",
       "    </tr>\n",
       "    <tr>\n",
       "      <th>4</th>\n",
       "      <td>Male</td>\n",
       "      <td>22.000000</td>\n",
       "      <td>1.780000</td>\n",
       "      <td>89.800000</td>\n",
       "      <td>no</td>\n",
       "      <td>no</td>\n",
       "      <td>2.0</td>\n",
       "      <td>1.0</td>\n",
       "      <td>Sometimes</td>\n",
       "      <td>no</td>\n",
       "      <td>2.000000</td>\n",
       "      <td>no</td>\n",
       "      <td>0.000000</td>\n",
       "      <td>0.000000</td>\n",
       "      <td>Sometimes</td>\n",
       "      <td>Public_Transportation</td>\n",
       "      <td>Overweight_Level_II</td>\n",
       "    </tr>\n",
       "    <tr>\n",
       "      <th>...</th>\n",
       "      <td>...</td>\n",
       "      <td>...</td>\n",
       "      <td>...</td>\n",
       "      <td>...</td>\n",
       "      <td>...</td>\n",
       "      <td>...</td>\n",
       "      <td>...</td>\n",
       "      <td>...</td>\n",
       "      <td>...</td>\n",
       "      <td>...</td>\n",
       "      <td>...</td>\n",
       "      <td>...</td>\n",
       "      <td>...</td>\n",
       "      <td>...</td>\n",
       "      <td>...</td>\n",
       "      <td>...</td>\n",
       "      <td>...</td>\n",
       "    </tr>\n",
       "    <tr>\n",
       "      <th>2106</th>\n",
       "      <td>Female</td>\n",
       "      <td>20.976842</td>\n",
       "      <td>1.710730</td>\n",
       "      <td>131.408528</td>\n",
       "      <td>yes</td>\n",
       "      <td>yes</td>\n",
       "      <td>3.0</td>\n",
       "      <td>3.0</td>\n",
       "      <td>Sometimes</td>\n",
       "      <td>no</td>\n",
       "      <td>1.728139</td>\n",
       "      <td>no</td>\n",
       "      <td>1.676269</td>\n",
       "      <td>0.906247</td>\n",
       "      <td>Sometimes</td>\n",
       "      <td>Public_Transportation</td>\n",
       "      <td>Obesity_Type_III</td>\n",
       "    </tr>\n",
       "    <tr>\n",
       "      <th>2107</th>\n",
       "      <td>Female</td>\n",
       "      <td>21.982942</td>\n",
       "      <td>1.748584</td>\n",
       "      <td>133.742943</td>\n",
       "      <td>yes</td>\n",
       "      <td>yes</td>\n",
       "      <td>3.0</td>\n",
       "      <td>3.0</td>\n",
       "      <td>Sometimes</td>\n",
       "      <td>no</td>\n",
       "      <td>2.005130</td>\n",
       "      <td>no</td>\n",
       "      <td>1.341390</td>\n",
       "      <td>0.599270</td>\n",
       "      <td>Sometimes</td>\n",
       "      <td>Public_Transportation</td>\n",
       "      <td>Obesity_Type_III</td>\n",
       "    </tr>\n",
       "    <tr>\n",
       "      <th>2108</th>\n",
       "      <td>Female</td>\n",
       "      <td>22.524036</td>\n",
       "      <td>1.752206</td>\n",
       "      <td>133.689352</td>\n",
       "      <td>yes</td>\n",
       "      <td>yes</td>\n",
       "      <td>3.0</td>\n",
       "      <td>3.0</td>\n",
       "      <td>Sometimes</td>\n",
       "      <td>no</td>\n",
       "      <td>2.054193</td>\n",
       "      <td>no</td>\n",
       "      <td>1.414209</td>\n",
       "      <td>0.646288</td>\n",
       "      <td>Sometimes</td>\n",
       "      <td>Public_Transportation</td>\n",
       "      <td>Obesity_Type_III</td>\n",
       "    </tr>\n",
       "    <tr>\n",
       "      <th>2109</th>\n",
       "      <td>Female</td>\n",
       "      <td>24.361936</td>\n",
       "      <td>1.739450</td>\n",
       "      <td>133.346641</td>\n",
       "      <td>yes</td>\n",
       "      <td>yes</td>\n",
       "      <td>3.0</td>\n",
       "      <td>3.0</td>\n",
       "      <td>Sometimes</td>\n",
       "      <td>no</td>\n",
       "      <td>2.852339</td>\n",
       "      <td>no</td>\n",
       "      <td>1.139107</td>\n",
       "      <td>0.586035</td>\n",
       "      <td>Sometimes</td>\n",
       "      <td>Public_Transportation</td>\n",
       "      <td>Obesity_Type_III</td>\n",
       "    </tr>\n",
       "    <tr>\n",
       "      <th>2110</th>\n",
       "      <td>Female</td>\n",
       "      <td>23.664709</td>\n",
       "      <td>1.738836</td>\n",
       "      <td>133.472641</td>\n",
       "      <td>yes</td>\n",
       "      <td>yes</td>\n",
       "      <td>3.0</td>\n",
       "      <td>3.0</td>\n",
       "      <td>Sometimes</td>\n",
       "      <td>no</td>\n",
       "      <td>2.863513</td>\n",
       "      <td>no</td>\n",
       "      <td>1.026452</td>\n",
       "      <td>0.714137</td>\n",
       "      <td>Sometimes</td>\n",
       "      <td>Public_Transportation</td>\n",
       "      <td>Obesity_Type_III</td>\n",
       "    </tr>\n",
       "  </tbody>\n",
       "</table>\n",
       "<p>2111 rows × 17 columns</p>\n",
       "</div>"
      ],
      "text/plain": [
       "      Gender        Age    Height      Weight family_history_with_overweight  \\\n",
       "0     Female  21.000000  1.620000   64.000000                            yes   \n",
       "1     Female  21.000000  1.520000   56.000000                            yes   \n",
       "2       Male  23.000000  1.800000   77.000000                            yes   \n",
       "3       Male  27.000000  1.800000   87.000000                             no   \n",
       "4       Male  22.000000  1.780000   89.800000                             no   \n",
       "...      ...        ...       ...         ...                            ...   \n",
       "2106  Female  20.976842  1.710730  131.408528                            yes   \n",
       "2107  Female  21.982942  1.748584  133.742943                            yes   \n",
       "2108  Female  22.524036  1.752206  133.689352                            yes   \n",
       "2109  Female  24.361936  1.739450  133.346641                            yes   \n",
       "2110  Female  23.664709  1.738836  133.472641                            yes   \n",
       "\n",
       "     FAVC  FCVC  NCP       CAEC SMOKE      CH2O  SCC       FAF       TUE  \\\n",
       "0      no   2.0  3.0  Sometimes    no  2.000000   no  0.000000  1.000000   \n",
       "1      no   3.0  3.0  Sometimes   yes  3.000000  yes  3.000000  0.000000   \n",
       "2      no   2.0  3.0  Sometimes    no  2.000000   no  2.000000  1.000000   \n",
       "3      no   3.0  3.0  Sometimes    no  2.000000   no  2.000000  0.000000   \n",
       "4      no   2.0  1.0  Sometimes    no  2.000000   no  0.000000  0.000000   \n",
       "...   ...   ...  ...        ...   ...       ...  ...       ...       ...   \n",
       "2106  yes   3.0  3.0  Sometimes    no  1.728139   no  1.676269  0.906247   \n",
       "2107  yes   3.0  3.0  Sometimes    no  2.005130   no  1.341390  0.599270   \n",
       "2108  yes   3.0  3.0  Sometimes    no  2.054193   no  1.414209  0.646288   \n",
       "2109  yes   3.0  3.0  Sometimes    no  2.852339   no  1.139107  0.586035   \n",
       "2110  yes   3.0  3.0  Sometimes    no  2.863513   no  1.026452  0.714137   \n",
       "\n",
       "            CALC                 MTRANS           NObeyesdad  \n",
       "0             no  Public_Transportation        Normal_Weight  \n",
       "1      Sometimes  Public_Transportation        Normal_Weight  \n",
       "2     Frequently  Public_Transportation        Normal_Weight  \n",
       "3     Frequently                Walking   Overweight_Level_I  \n",
       "4      Sometimes  Public_Transportation  Overweight_Level_II  \n",
       "...          ...                    ...                  ...  \n",
       "2106   Sometimes  Public_Transportation     Obesity_Type_III  \n",
       "2107   Sometimes  Public_Transportation     Obesity_Type_III  \n",
       "2108   Sometimes  Public_Transportation     Obesity_Type_III  \n",
       "2109   Sometimes  Public_Transportation     Obesity_Type_III  \n",
       "2110   Sometimes  Public_Transportation     Obesity_Type_III  \n",
       "\n",
       "[2111 rows x 17 columns]"
      ]
     },
     "execution_count": 124,
     "metadata": {},
     "output_type": "execute_result"
    }
   ],
   "source": [
    "obesity_levels = pd.read_csv(r\"C:\\Users\\Vishnu Priya\\Desktop\\Besant MS DS\\Projects ML\\ObesityDataSet_raw_and_data_sinthetic.csv\")\n",
    "obesity_levels"
   ]
  },
  {
   "cell_type": "code",
   "execution_count": 125,
   "id": "fd9662a7",
   "metadata": {},
   "outputs": [
    {
     "data": {
      "text/plain": [
       "(2111, 17)"
      ]
     },
     "execution_count": 125,
     "metadata": {},
     "output_type": "execute_result"
    }
   ],
   "source": [
    "obesity_levels.shape"
   ]
  },
  {
   "cell_type": "code",
   "execution_count": 126,
   "id": "fb486a61",
   "metadata": {},
   "outputs": [
    {
     "name": "stdout",
     "output_type": "stream",
     "text": [
      "<class 'pandas.core.frame.DataFrame'>\n",
      "RangeIndex: 2111 entries, 0 to 2110\n",
      "Data columns (total 17 columns):\n",
      " #   Column                          Non-Null Count  Dtype  \n",
      "---  ------                          --------------  -----  \n",
      " 0   Gender                          2111 non-null   object \n",
      " 1   Age                             2111 non-null   float64\n",
      " 2   Height                          2111 non-null   float64\n",
      " 3   Weight                          2111 non-null   float64\n",
      " 4   family_history_with_overweight  2111 non-null   object \n",
      " 5   FAVC                            2111 non-null   object \n",
      " 6   FCVC                            2111 non-null   float64\n",
      " 7   NCP                             2111 non-null   float64\n",
      " 8   CAEC                            2111 non-null   object \n",
      " 9   SMOKE                           2111 non-null   object \n",
      " 10  CH2O                            2111 non-null   float64\n",
      " 11  SCC                             2111 non-null   object \n",
      " 12  FAF                             2111 non-null   float64\n",
      " 13  TUE                             2111 non-null   float64\n",
      " 14  CALC                            2111 non-null   object \n",
      " 15  MTRANS                          2111 non-null   object \n",
      " 16  NObeyesdad                      2111 non-null   object \n",
      "dtypes: float64(8), object(9)\n",
      "memory usage: 280.5+ KB\n"
     ]
    }
   ],
   "source": [
    "obesity_levels.info()"
   ]
  },
  {
   "cell_type": "code",
   "execution_count": 127,
   "id": "8d5ba717",
   "metadata": {},
   "outputs": [
    {
     "data": {
      "text/html": [
       "<div>\n",
       "<style scoped>\n",
       "    .dataframe tbody tr th:only-of-type {\n",
       "        vertical-align: middle;\n",
       "    }\n",
       "\n",
       "    .dataframe tbody tr th {\n",
       "        vertical-align: top;\n",
       "    }\n",
       "\n",
       "    .dataframe thead th {\n",
       "        text-align: right;\n",
       "    }\n",
       "</style>\n",
       "<table border=\"1\" class=\"dataframe\">\n",
       "  <thead>\n",
       "    <tr style=\"text-align: right;\">\n",
       "      <th></th>\n",
       "      <th>Gender</th>\n",
       "      <th>Age</th>\n",
       "      <th>Height</th>\n",
       "      <th>Weight</th>\n",
       "      <th>family_history_with_overweight</th>\n",
       "      <th>FAVC</th>\n",
       "      <th>FCVC</th>\n",
       "      <th>NCP</th>\n",
       "      <th>CAEC</th>\n",
       "      <th>SMOKE</th>\n",
       "      <th>CH2O</th>\n",
       "      <th>SCC</th>\n",
       "      <th>FAF</th>\n",
       "      <th>TUE</th>\n",
       "      <th>CALC</th>\n",
       "      <th>MTRANS</th>\n",
       "      <th>NObeyesdad</th>\n",
       "    </tr>\n",
       "  </thead>\n",
       "  <tbody>\n",
       "    <tr>\n",
       "      <th>0</th>\n",
       "      <td>Female</td>\n",
       "      <td>21.000000</td>\n",
       "      <td>1.620000</td>\n",
       "      <td>64.000000</td>\n",
       "      <td>yes</td>\n",
       "      <td>no</td>\n",
       "      <td>2.0</td>\n",
       "      <td>3.0</td>\n",
       "      <td>Sometimes</td>\n",
       "      <td>no</td>\n",
       "      <td>2.000000</td>\n",
       "      <td>no</td>\n",
       "      <td>0.000000</td>\n",
       "      <td>1.000000</td>\n",
       "      <td>no</td>\n",
       "      <td>Public_Transportation</td>\n",
       "      <td>Normal_Weight</td>\n",
       "    </tr>\n",
       "    <tr>\n",
       "      <th>1</th>\n",
       "      <td>Female</td>\n",
       "      <td>21.000000</td>\n",
       "      <td>1.520000</td>\n",
       "      <td>56.000000</td>\n",
       "      <td>yes</td>\n",
       "      <td>no</td>\n",
       "      <td>3.0</td>\n",
       "      <td>3.0</td>\n",
       "      <td>Sometimes</td>\n",
       "      <td>yes</td>\n",
       "      <td>3.000000</td>\n",
       "      <td>yes</td>\n",
       "      <td>3.000000</td>\n",
       "      <td>0.000000</td>\n",
       "      <td>Sometimes</td>\n",
       "      <td>Public_Transportation</td>\n",
       "      <td>Normal_Weight</td>\n",
       "    </tr>\n",
       "    <tr>\n",
       "      <th>2</th>\n",
       "      <td>Male</td>\n",
       "      <td>23.000000</td>\n",
       "      <td>1.800000</td>\n",
       "      <td>77.000000</td>\n",
       "      <td>yes</td>\n",
       "      <td>no</td>\n",
       "      <td>2.0</td>\n",
       "      <td>3.0</td>\n",
       "      <td>Sometimes</td>\n",
       "      <td>no</td>\n",
       "      <td>2.000000</td>\n",
       "      <td>no</td>\n",
       "      <td>2.000000</td>\n",
       "      <td>1.000000</td>\n",
       "      <td>Frequently</td>\n",
       "      <td>Public_Transportation</td>\n",
       "      <td>Normal_Weight</td>\n",
       "    </tr>\n",
       "    <tr>\n",
       "      <th>3</th>\n",
       "      <td>Male</td>\n",
       "      <td>27.000000</td>\n",
       "      <td>1.800000</td>\n",
       "      <td>87.000000</td>\n",
       "      <td>no</td>\n",
       "      <td>no</td>\n",
       "      <td>3.0</td>\n",
       "      <td>3.0</td>\n",
       "      <td>Sometimes</td>\n",
       "      <td>no</td>\n",
       "      <td>2.000000</td>\n",
       "      <td>no</td>\n",
       "      <td>2.000000</td>\n",
       "      <td>0.000000</td>\n",
       "      <td>Frequently</td>\n",
       "      <td>Walking</td>\n",
       "      <td>Overweight_Level_I</td>\n",
       "    </tr>\n",
       "    <tr>\n",
       "      <th>4</th>\n",
       "      <td>Male</td>\n",
       "      <td>22.000000</td>\n",
       "      <td>1.780000</td>\n",
       "      <td>89.800000</td>\n",
       "      <td>no</td>\n",
       "      <td>no</td>\n",
       "      <td>2.0</td>\n",
       "      <td>1.0</td>\n",
       "      <td>Sometimes</td>\n",
       "      <td>no</td>\n",
       "      <td>2.000000</td>\n",
       "      <td>no</td>\n",
       "      <td>0.000000</td>\n",
       "      <td>0.000000</td>\n",
       "      <td>Sometimes</td>\n",
       "      <td>Public_Transportation</td>\n",
       "      <td>Overweight_Level_II</td>\n",
       "    </tr>\n",
       "    <tr>\n",
       "      <th>...</th>\n",
       "      <td>...</td>\n",
       "      <td>...</td>\n",
       "      <td>...</td>\n",
       "      <td>...</td>\n",
       "      <td>...</td>\n",
       "      <td>...</td>\n",
       "      <td>...</td>\n",
       "      <td>...</td>\n",
       "      <td>...</td>\n",
       "      <td>...</td>\n",
       "      <td>...</td>\n",
       "      <td>...</td>\n",
       "      <td>...</td>\n",
       "      <td>...</td>\n",
       "      <td>...</td>\n",
       "      <td>...</td>\n",
       "      <td>...</td>\n",
       "    </tr>\n",
       "    <tr>\n",
       "      <th>2106</th>\n",
       "      <td>Female</td>\n",
       "      <td>20.976842</td>\n",
       "      <td>1.710730</td>\n",
       "      <td>131.408528</td>\n",
       "      <td>yes</td>\n",
       "      <td>yes</td>\n",
       "      <td>3.0</td>\n",
       "      <td>3.0</td>\n",
       "      <td>Sometimes</td>\n",
       "      <td>no</td>\n",
       "      <td>1.728139</td>\n",
       "      <td>no</td>\n",
       "      <td>1.676269</td>\n",
       "      <td>0.906247</td>\n",
       "      <td>Sometimes</td>\n",
       "      <td>Public_Transportation</td>\n",
       "      <td>Obesity_Type_III</td>\n",
       "    </tr>\n",
       "    <tr>\n",
       "      <th>2107</th>\n",
       "      <td>Female</td>\n",
       "      <td>21.982942</td>\n",
       "      <td>1.748584</td>\n",
       "      <td>133.742943</td>\n",
       "      <td>yes</td>\n",
       "      <td>yes</td>\n",
       "      <td>3.0</td>\n",
       "      <td>3.0</td>\n",
       "      <td>Sometimes</td>\n",
       "      <td>no</td>\n",
       "      <td>2.005130</td>\n",
       "      <td>no</td>\n",
       "      <td>1.341390</td>\n",
       "      <td>0.599270</td>\n",
       "      <td>Sometimes</td>\n",
       "      <td>Public_Transportation</td>\n",
       "      <td>Obesity_Type_III</td>\n",
       "    </tr>\n",
       "    <tr>\n",
       "      <th>2108</th>\n",
       "      <td>Female</td>\n",
       "      <td>22.524036</td>\n",
       "      <td>1.752206</td>\n",
       "      <td>133.689352</td>\n",
       "      <td>yes</td>\n",
       "      <td>yes</td>\n",
       "      <td>3.0</td>\n",
       "      <td>3.0</td>\n",
       "      <td>Sometimes</td>\n",
       "      <td>no</td>\n",
       "      <td>2.054193</td>\n",
       "      <td>no</td>\n",
       "      <td>1.414209</td>\n",
       "      <td>0.646288</td>\n",
       "      <td>Sometimes</td>\n",
       "      <td>Public_Transportation</td>\n",
       "      <td>Obesity_Type_III</td>\n",
       "    </tr>\n",
       "    <tr>\n",
       "      <th>2109</th>\n",
       "      <td>Female</td>\n",
       "      <td>24.361936</td>\n",
       "      <td>1.739450</td>\n",
       "      <td>133.346641</td>\n",
       "      <td>yes</td>\n",
       "      <td>yes</td>\n",
       "      <td>3.0</td>\n",
       "      <td>3.0</td>\n",
       "      <td>Sometimes</td>\n",
       "      <td>no</td>\n",
       "      <td>2.852339</td>\n",
       "      <td>no</td>\n",
       "      <td>1.139107</td>\n",
       "      <td>0.586035</td>\n",
       "      <td>Sometimes</td>\n",
       "      <td>Public_Transportation</td>\n",
       "      <td>Obesity_Type_III</td>\n",
       "    </tr>\n",
       "    <tr>\n",
       "      <th>2110</th>\n",
       "      <td>Female</td>\n",
       "      <td>23.664709</td>\n",
       "      <td>1.738836</td>\n",
       "      <td>133.472641</td>\n",
       "      <td>yes</td>\n",
       "      <td>yes</td>\n",
       "      <td>3.0</td>\n",
       "      <td>3.0</td>\n",
       "      <td>Sometimes</td>\n",
       "      <td>no</td>\n",
       "      <td>2.863513</td>\n",
       "      <td>no</td>\n",
       "      <td>1.026452</td>\n",
       "      <td>0.714137</td>\n",
       "      <td>Sometimes</td>\n",
       "      <td>Public_Transportation</td>\n",
       "      <td>Obesity_Type_III</td>\n",
       "    </tr>\n",
       "  </tbody>\n",
       "</table>\n",
       "<p>2111 rows × 17 columns</p>\n",
       "</div>"
      ],
      "text/plain": [
       "      Gender        Age    Height      Weight family_history_with_overweight  \\\n",
       "0     Female  21.000000  1.620000   64.000000                            yes   \n",
       "1     Female  21.000000  1.520000   56.000000                            yes   \n",
       "2       Male  23.000000  1.800000   77.000000                            yes   \n",
       "3       Male  27.000000  1.800000   87.000000                             no   \n",
       "4       Male  22.000000  1.780000   89.800000                             no   \n",
       "...      ...        ...       ...         ...                            ...   \n",
       "2106  Female  20.976842  1.710730  131.408528                            yes   \n",
       "2107  Female  21.982942  1.748584  133.742943                            yes   \n",
       "2108  Female  22.524036  1.752206  133.689352                            yes   \n",
       "2109  Female  24.361936  1.739450  133.346641                            yes   \n",
       "2110  Female  23.664709  1.738836  133.472641                            yes   \n",
       "\n",
       "     FAVC  FCVC  NCP       CAEC SMOKE      CH2O  SCC       FAF       TUE  \\\n",
       "0      no   2.0  3.0  Sometimes    no  2.000000   no  0.000000  1.000000   \n",
       "1      no   3.0  3.0  Sometimes   yes  3.000000  yes  3.000000  0.000000   \n",
       "2      no   2.0  3.0  Sometimes    no  2.000000   no  2.000000  1.000000   \n",
       "3      no   3.0  3.0  Sometimes    no  2.000000   no  2.000000  0.000000   \n",
       "4      no   2.0  1.0  Sometimes    no  2.000000   no  0.000000  0.000000   \n",
       "...   ...   ...  ...        ...   ...       ...  ...       ...       ...   \n",
       "2106  yes   3.0  3.0  Sometimes    no  1.728139   no  1.676269  0.906247   \n",
       "2107  yes   3.0  3.0  Sometimes    no  2.005130   no  1.341390  0.599270   \n",
       "2108  yes   3.0  3.0  Sometimes    no  2.054193   no  1.414209  0.646288   \n",
       "2109  yes   3.0  3.0  Sometimes    no  2.852339   no  1.139107  0.586035   \n",
       "2110  yes   3.0  3.0  Sometimes    no  2.863513   no  1.026452  0.714137   \n",
       "\n",
       "            CALC                 MTRANS           NObeyesdad  \n",
       "0             no  Public_Transportation        Normal_Weight  \n",
       "1      Sometimes  Public_Transportation        Normal_Weight  \n",
       "2     Frequently  Public_Transportation        Normal_Weight  \n",
       "3     Frequently                Walking   Overweight_Level_I  \n",
       "4      Sometimes  Public_Transportation  Overweight_Level_II  \n",
       "...          ...                    ...                  ...  \n",
       "2106   Sometimes  Public_Transportation     Obesity_Type_III  \n",
       "2107   Sometimes  Public_Transportation     Obesity_Type_III  \n",
       "2108   Sometimes  Public_Transportation     Obesity_Type_III  \n",
       "2109   Sometimes  Public_Transportation     Obesity_Type_III  \n",
       "2110   Sometimes  Public_Transportation     Obesity_Type_III  \n",
       "\n",
       "[2111 rows x 17 columns]"
      ]
     },
     "execution_count": 127,
     "metadata": {},
     "output_type": "execute_result"
    }
   ],
   "source": [
    "obesity = obesity_levels.copy()\n",
    "obesity"
   ]
  },
  {
   "cell_type": "code",
   "execution_count": 128,
   "id": "a2738c9c",
   "metadata": {},
   "outputs": [
    {
     "data": {
      "text/plain": [
       "(2111, 17)"
      ]
     },
     "execution_count": 128,
     "metadata": {},
     "output_type": "execute_result"
    }
   ],
   "source": [
    "obesity.shape"
   ]
  },
  {
   "cell_type": "code",
   "execution_count": 129,
   "id": "3b9860e0",
   "metadata": {},
   "outputs": [
    {
     "data": {
      "text/plain": [
       "Gender                             object\n",
       "Age                               float64\n",
       "Height                            float64\n",
       "Weight                            float64\n",
       "family_history_with_overweight     object\n",
       "FAVC                               object\n",
       "FCVC                              float64\n",
       "NCP                               float64\n",
       "CAEC                               object\n",
       "SMOKE                              object\n",
       "CH2O                              float64\n",
       "SCC                                object\n",
       "FAF                               float64\n",
       "TUE                               float64\n",
       "CALC                               object\n",
       "MTRANS                             object\n",
       "NObeyesdad                         object\n",
       "dtype: object"
      ]
     },
     "execution_count": 129,
     "metadata": {},
     "output_type": "execute_result"
    }
   ],
   "source": [
    "obesity.dtypes"
   ]
  },
  {
   "cell_type": "code",
   "execution_count": 130,
   "id": "bb91a63f",
   "metadata": {},
   "outputs": [],
   "source": [
    "obesity=obesity.rename(columns={\"NObeyesdad\": \"obesity_level\",\n",
    "                                \"FAVC\":\"high_calorie_consumption\",\n",
    "                                \"FCVC\":\"vegetables_consumption\", \n",
    "                                \"NCP\":\"main_meals\",\n",
    "                                \"CAEC\":\"food_between_meals\",\n",
    "                                \"CH2O\":\"water_consumption\",\n",
    "                                \"CALC\":\"alcohol_consumption\",\n",
    "                                \"SCC\":\"calories_monitoring\",\n",
    "                               \"FAF\":\"physical_activity_frequency\",\n",
    "                               \"TUE\":\"usage_of_tech_devices\",\n",
    "                               \"MTRANS\":\"mode_of_transport\"})"
   ]
  },
  {
   "cell_type": "code",
   "execution_count": 131,
   "id": "ce64b829",
   "metadata": {},
   "outputs": [
    {
     "data": {
      "text/plain": [
       "Index(['Gender', 'Age', 'Height', 'Weight', 'family_history_with_overweight',\n",
       "       'high_calorie_consumption', 'vegetables_consumption', 'main_meals',\n",
       "       'food_between_meals', 'SMOKE', 'water_consumption',\n",
       "       'calories_monitoring', 'physical_activity_frequency',\n",
       "       'usage_of_tech_devices', 'alcohol_consumption', 'mode_of_transport',\n",
       "       'obesity_level'],\n",
       "      dtype='object')"
      ]
     },
     "execution_count": 131,
     "metadata": {},
     "output_type": "execute_result"
    }
   ],
   "source": [
    "obesity.columns"
   ]
  },
  {
   "cell_type": "code",
   "execution_count": 132,
   "id": "7cafa60a",
   "metadata": {},
   "outputs": [
    {
     "data": {
      "text/html": [
       "<div>\n",
       "<style scoped>\n",
       "    .dataframe tbody tr th:only-of-type {\n",
       "        vertical-align: middle;\n",
       "    }\n",
       "\n",
       "    .dataframe tbody tr th {\n",
       "        vertical-align: top;\n",
       "    }\n",
       "\n",
       "    .dataframe thead th {\n",
       "        text-align: right;\n",
       "    }\n",
       "</style>\n",
       "<table border=\"1\" class=\"dataframe\">\n",
       "  <thead>\n",
       "    <tr style=\"text-align: right;\">\n",
       "      <th></th>\n",
       "      <th>Gender</th>\n",
       "      <th>Age</th>\n",
       "      <th>Height</th>\n",
       "      <th>Weight</th>\n",
       "      <th>family_history_with_overweight</th>\n",
       "      <th>high_calorie_consumption</th>\n",
       "      <th>vegetables_consumption</th>\n",
       "      <th>main_meals</th>\n",
       "      <th>food_between_meals</th>\n",
       "      <th>SMOKE</th>\n",
       "      <th>water_consumption</th>\n",
       "      <th>calories_monitoring</th>\n",
       "      <th>physical_activity_frequency</th>\n",
       "      <th>usage_of_tech_devices</th>\n",
       "      <th>alcohol_consumption</th>\n",
       "      <th>mode_of_transport</th>\n",
       "      <th>obesity_level</th>\n",
       "    </tr>\n",
       "  </thead>\n",
       "  <tbody>\n",
       "    <tr>\n",
       "      <th>0</th>\n",
       "      <td>Female</td>\n",
       "      <td>21</td>\n",
       "      <td>1.62</td>\n",
       "      <td>64.0</td>\n",
       "      <td>yes</td>\n",
       "      <td>no</td>\n",
       "      <td>2.0</td>\n",
       "      <td>3.0</td>\n",
       "      <td>Sometimes</td>\n",
       "      <td>no</td>\n",
       "      <td>2.0</td>\n",
       "      <td>no</td>\n",
       "      <td>0.0</td>\n",
       "      <td>1.0</td>\n",
       "      <td>no</td>\n",
       "      <td>Public_Transportation</td>\n",
       "      <td>Normal_Weight</td>\n",
       "    </tr>\n",
       "    <tr>\n",
       "      <th>1</th>\n",
       "      <td>Female</td>\n",
       "      <td>21</td>\n",
       "      <td>1.52</td>\n",
       "      <td>56.0</td>\n",
       "      <td>yes</td>\n",
       "      <td>no</td>\n",
       "      <td>3.0</td>\n",
       "      <td>3.0</td>\n",
       "      <td>Sometimes</td>\n",
       "      <td>yes</td>\n",
       "      <td>3.0</td>\n",
       "      <td>yes</td>\n",
       "      <td>3.0</td>\n",
       "      <td>0.0</td>\n",
       "      <td>Sometimes</td>\n",
       "      <td>Public_Transportation</td>\n",
       "      <td>Normal_Weight</td>\n",
       "    </tr>\n",
       "    <tr>\n",
       "      <th>2</th>\n",
       "      <td>Male</td>\n",
       "      <td>23</td>\n",
       "      <td>1.80</td>\n",
       "      <td>77.0</td>\n",
       "      <td>yes</td>\n",
       "      <td>no</td>\n",
       "      <td>2.0</td>\n",
       "      <td>3.0</td>\n",
       "      <td>Sometimes</td>\n",
       "      <td>no</td>\n",
       "      <td>2.0</td>\n",
       "      <td>no</td>\n",
       "      <td>2.0</td>\n",
       "      <td>1.0</td>\n",
       "      <td>Frequently</td>\n",
       "      <td>Public_Transportation</td>\n",
       "      <td>Normal_Weight</td>\n",
       "    </tr>\n",
       "    <tr>\n",
       "      <th>3</th>\n",
       "      <td>Male</td>\n",
       "      <td>27</td>\n",
       "      <td>1.80</td>\n",
       "      <td>87.0</td>\n",
       "      <td>no</td>\n",
       "      <td>no</td>\n",
       "      <td>3.0</td>\n",
       "      <td>3.0</td>\n",
       "      <td>Sometimes</td>\n",
       "      <td>no</td>\n",
       "      <td>2.0</td>\n",
       "      <td>no</td>\n",
       "      <td>2.0</td>\n",
       "      <td>0.0</td>\n",
       "      <td>Frequently</td>\n",
       "      <td>Walking</td>\n",
       "      <td>Overweight_Level_I</td>\n",
       "    </tr>\n",
       "    <tr>\n",
       "      <th>4</th>\n",
       "      <td>Male</td>\n",
       "      <td>22</td>\n",
       "      <td>1.78</td>\n",
       "      <td>89.8</td>\n",
       "      <td>no</td>\n",
       "      <td>no</td>\n",
       "      <td>2.0</td>\n",
       "      <td>1.0</td>\n",
       "      <td>Sometimes</td>\n",
       "      <td>no</td>\n",
       "      <td>2.0</td>\n",
       "      <td>no</td>\n",
       "      <td>0.0</td>\n",
       "      <td>0.0</td>\n",
       "      <td>Sometimes</td>\n",
       "      <td>Public_Transportation</td>\n",
       "      <td>Overweight_Level_II</td>\n",
       "    </tr>\n",
       "  </tbody>\n",
       "</table>\n",
       "</div>"
      ],
      "text/plain": [
       "   Gender  Age  Height  Weight family_history_with_overweight  \\\n",
       "0  Female   21    1.62    64.0                            yes   \n",
       "1  Female   21    1.52    56.0                            yes   \n",
       "2    Male   23    1.80    77.0                            yes   \n",
       "3    Male   27    1.80    87.0                             no   \n",
       "4    Male   22    1.78    89.8                             no   \n",
       "\n",
       "  high_calorie_consumption  vegetables_consumption  main_meals  \\\n",
       "0                       no                     2.0         3.0   \n",
       "1                       no                     3.0         3.0   \n",
       "2                       no                     2.0         3.0   \n",
       "3                       no                     3.0         3.0   \n",
       "4                       no                     2.0         1.0   \n",
       "\n",
       "  food_between_meals SMOKE  water_consumption calories_monitoring  \\\n",
       "0          Sometimes    no                2.0                  no   \n",
       "1          Sometimes   yes                3.0                 yes   \n",
       "2          Sometimes    no                2.0                  no   \n",
       "3          Sometimes    no                2.0                  no   \n",
       "4          Sometimes    no                2.0                  no   \n",
       "\n",
       "   physical_activity_frequency  usage_of_tech_devices alcohol_consumption  \\\n",
       "0                          0.0                    1.0                  no   \n",
       "1                          3.0                    0.0           Sometimes   \n",
       "2                          2.0                    1.0          Frequently   \n",
       "3                          2.0                    0.0          Frequently   \n",
       "4                          0.0                    0.0           Sometimes   \n",
       "\n",
       "       mode_of_transport        obesity_level  \n",
       "0  Public_Transportation        Normal_Weight  \n",
       "1  Public_Transportation        Normal_Weight  \n",
       "2  Public_Transportation        Normal_Weight  \n",
       "3                Walking   Overweight_Level_I  \n",
       "4  Public_Transportation  Overweight_Level_II  "
      ]
     },
     "execution_count": 132,
     "metadata": {},
     "output_type": "execute_result"
    }
   ],
   "source": [
    "obesity[\"Age\"] = obesity[\"Age\"].astype(int)\n",
    "obesity.head()"
   ]
  },
  {
   "cell_type": "markdown",
   "id": "1b12d55b",
   "metadata": {},
   "source": [
    "#### DATA VISUALIZATIONS"
   ]
  },
  {
   "cell_type": "code",
   "execution_count": 133,
   "id": "91a7a50d",
   "metadata": {},
   "outputs": [
    {
     "data": {
      "image/png": "[encoded data removed]",
      "text/plain": [
       "<Figure size 360x504 with 1 Axes>"
      ]
     },
     "metadata": {},
     "output_type": "display_data"
    }
   ],
   "source": [
    "plt.figure(figsize = (5,7))\n",
    "plt.grid(True)\n",
    "ax = sns.countplot(x = 'Gender', data = obesity, palette='Spectral_r') # Seasborn - sns\n",
    "for p in ax.patches:\n",
    "        ax.annotate('{:.0f}'.format(p.get_height()), (p.get_x()+0.3, p.get_height()+0.5))"
   ]
  },
  {
   "cell_type": "code",
   "execution_count": 134,
   "id": "ad818b5f",
   "metadata": {},
   "outputs": [
    {
     "data": {
      "text/plain": [
       "[Text(0.5, 1.0, 'Age distribution of the dataset')]"
      ]
     },
     "execution_count": 134,
     "metadata": {},
     "output_type": "execute_result"
    },
    {
     "data": {
      "image/png": "[encoded data removed]",
      "text/plain": [
       "<Figure size 864x432 with 1 Axes>"
      ]
     },
     "metadata": {},
     "output_type": "display_data"
    }
   ],
   "source": [
    "sns.set_style(\"dark\")\n",
    "sns.countplot(x=\"Age\", data=obesity, \n",
    "              saturation=1).set(title='Age distribution of the dataset')"
   ]
  },
  {
   "cell_type": "code",
   "execution_count": 135,
   "id": "736044b4",
   "metadata": {},
   "outputs": [
    {
     "data": {
      "text/plain": [
       "[Text(0.5, 1.0, 'Obesity Levels Distribution')]"
      ]
     },
     "execution_count": 135,
     "metadata": {},
     "output_type": "execute_result"
    },
    {
     "data": {
      "image/png": "[encoded data removed]",
      "text/plain": [
       "<Figure size 1152x576 with 1 Axes>"
      ]
     },
     "metadata": {},
     "output_type": "display_data"
    }
   ],
   "source": [
    "sns.set_style(\"dark\")\n",
    "sns.set(rc={'figure.figsize':(16,8)})\n",
    "sns.countplot(x=\"obesity_level\", data=obesity).set(title='Obesity Levels Distribution')"
   ]
  },
  {
   "cell_type": "code",
   "execution_count": 136,
   "id": "0f0ba4dc",
   "metadata": {},
   "outputs": [
    {
     "data": {
      "text/plain": [
       "<matplotlib.legend.Legend at 0x1be207b0850>"
      ]
     },
     "execution_count": 136,
     "metadata": {},
     "output_type": "execute_result"
    },
    {
     "data": {
      "image/png": "[encoded data removed]",
      "text/plain": [
       "<Figure size 1152x576 with 1 Axes>"
      ]
     },
     "metadata": {},
     "output_type": "display_data"
    }
   ],
   "source": [
    "sns.set_style(\"dark\")\n",
    "sns.countplot(x=\"Gender\", data=obesity, \n",
    "              saturation=10, hue=\"obesity_level\").set(title='Gender distribution')\n",
    "plt.legend(loc=(1,1))"
   ]
  },
  {
   "cell_type": "code",
   "execution_count": 137,
   "id": "a449729e",
   "metadata": {},
   "outputs": [
    {
     "data": {
      "text/plain": [
       "<seaborn.axisgrid.FacetGrid at 0x1be2077dc40>"
      ]
     },
     "execution_count": 137,
     "metadata": {},
     "output_type": "execute_result"
    },
    {
     "data": {
      "image/png": "[encoded data removed]",
      "text/plain": [
       "<Figure size 1003.98x432 with 2 Axes>"
      ]
     },
     "metadata": {},
     "output_type": "display_data"
    }
   ],
   "source": [
    "sns.catplot(x=\"Gender\", hue=\"obesity_level\", col=\"SMOKE\",\n",
    "                data=obesity, kind=\"count\",\n",
    "                height=6, aspect=1,\n",
    "                palette=\"viridis\")"
   ]
  },
  {
   "cell_type": "code",
   "execution_count": 138,
   "id": "4c728c08",
   "metadata": {},
   "outputs": [
    {
     "data": {
      "text/plain": [
       "[Text(0.5, 1.0, 'Gender wise Transportation')]"
      ]
     },
     "execution_count": 138,
     "metadata": {},
     "output_type": "execute_result"
    },
    {
     "data": {
      "image/png": "[encoded data removed]",
      "text/plain": [
       "<Figure size 864x432 with 1 Axes>"
      ]
     },
     "metadata": {},
     "output_type": "display_data"
    }
   ],
   "source": [
    "sns.set(rc={\"font.style\":\"normal\",\n",
    "            \"text.color\":\"black\",\n",
    "            \"xtick.color\":\"black\",\n",
    "            \"ytick.color\":\"black\",\n",
    "            \"axes.labelcolor\":\"black\",\n",
    "            \"axes.grid\":False,\n",
    "            'axes.labelsize':30,\n",
    "            'figure.figsize':(12, 6),\n",
    "            'xtick.labelsize':25,\n",
    "            'ytick.labelsize':20})\n",
    "\n",
    "\n",
    "sns.set(style=\"white\",font_scale=1)\n",
    "\n",
    "sns.set_style(\"dark\")\n",
    "sns.countplot(x=\"mode_of_transport\", data=obesity, palette=sns.diverging_palette(260, 20), \n",
    "              saturation=10, edgecolor=(0,0,0), linewidth=2, hue=\"Gender\").set(title='Gender wise Transportation')"
   ]
  },
  {
   "cell_type": "code",
   "execution_count": 139,
   "id": "bdc823a1",
   "metadata": {},
   "outputs": [
    {
     "data": {
      "text/plain": [
       "[Text(0.5, 1.0, 'Family History Gender wise')]"
      ]
     },
     "execution_count": 139,
     "metadata": {},
     "output_type": "execute_result"
    },
    {
     "data": {
      "image/png": "[encoded data removed]",
      "text/plain": [
       "<Figure size 864x432 with 1 Axes>"
      ]
     },
     "metadata": {},
     "output_type": "display_data"
    }
   ],
   "source": [
    "sns.set(style=\"white\",font_scale=1)\n",
    "\n",
    "sns.set_style(\"dark\")\n",
    "sns.countplot(x=\"family_history_with_overweight\", data=obesity, palette=sns.diverging_palette(360, 10), \n",
    "              saturation=1, edgecolor=(0,0,0), linewidth=2, hue=\"Gender\").set(title='Family History Gender wise')"
   ]
  },
  {
   "cell_type": "code",
   "execution_count": 140,
   "id": "92b7c527",
   "metadata": {},
   "outputs": [
    {
     "data": {
      "text/plain": [
       "[Text(0.5, 1.0, 'Frequent consumption of High Caloric Food')]"
      ]
     },
     "execution_count": 140,
     "metadata": {},
     "output_type": "execute_result"
    },
    {
     "data": {
      "image/png": "[encoded data removed]",
      "text/plain": [
       "<Figure size 864x432 with 1 Axes>"
      ]
     },
     "metadata": {},
     "output_type": "display_data"
    }
   ],
   "source": [
    "sns.set(style=\"white\",font_scale=1)\n",
    "\n",
    "sns.set_style(\"dark\")\n",
    "sns.countplot(x=\"high_calorie_consumption\", data=obesity, palette=sns.color_palette(\"YlOrBr\", 3), \n",
    "              saturation=10, edgecolor=(0,0,0), linewidth=2, hue=\"Gender\").set(title='Frequent consumption of High Caloric Food')"
   ]
  },
  {
   "cell_type": "code",
   "execution_count": 141,
   "id": "b3a0ea9f",
   "metadata": {},
   "outputs": [
    {
     "data": {
      "text/plain": [
       "<seaborn.axisgrid.FacetGrid at 0x1be21050eb0>"
      ]
     },
     "execution_count": 141,
     "metadata": {},
     "output_type": "execute_result"
    },
    {
     "data": {
      "image/png": "[encoded data removed]",
      "text/plain": [
       "<Figure size 1522.38x432 with 4 Axes>"
      ]
     },
     "metadata": {},
     "output_type": "display_data"
    }
   ],
   "source": [
    "sns.catplot(x=\"Gender\", hue=\"obesity_level\", col=\"alcohol_consumption\",\n",
    "                data=obesity, kind=\"count\",\n",
    "                height=6, aspect=.8,\n",
    "                palette=\"dark:blue\")"
   ]
  },
  {
   "cell_type": "code",
   "execution_count": 142,
   "id": "cdfe9d93",
   "metadata": {},
   "outputs": [
    {
     "data": {
      "text/plain": [
       "<seaborn.axisgrid.FacetGrid at 0x1be21aade50>"
      ]
     },
     "execution_count": 142,
     "metadata": {},
     "output_type": "execute_result"
    },
    {
     "data": {
      "image/png": "[encoded data removed]",
      "text/plain": [
       "<Figure size 2593.63x432 with 7 Axes>"
      ]
     },
     "metadata": {},
     "output_type": "display_data"
    }
   ],
   "source": [
    "sns.catplot(x=\"Gender\", hue=\"family_history_with_overweight\", col=\"obesity_level\",\n",
    "                data=obesity, kind=\"count\",\n",
    "                height=6, aspect=.8,\n",
    "                palette=\"dark:red\",saturation=10)"
   ]
  },
  {
   "cell_type": "markdown",
   "id": "8f22dad4",
   "metadata": {},
   "source": [
    "#### EXPLORING THE DATA"
   ]
  },
  {
   "cell_type": "code",
   "execution_count": 143,
   "id": "85203220",
   "metadata": {},
   "outputs": [
    {
     "data": {
      "text/plain": [
       "Gender                            0\n",
       "Age                               0\n",
       "Height                            0\n",
       "Weight                            0\n",
       "family_history_with_overweight    0\n",
       "high_calorie_consumption          0\n",
       "vegetables_consumption            0\n",
       "main_meals                        0\n",
       "food_between_meals                0\n",
       "SMOKE                             0\n",
       "water_consumption                 0\n",
       "calories_monitoring               0\n",
       "physical_activity_frequency       0\n",
       "usage_of_tech_devices             0\n",
       "alcohol_consumption               0\n",
       "mode_of_transport                 0\n",
       "obesity_level                     0\n",
       "dtype: int64"
      ]
     },
     "execution_count": 143,
     "metadata": {},
     "output_type": "execute_result"
    }
   ],
   "source": [
    "obesity.isna().sum()"
   ]
  },
  {
   "cell_type": "code",
   "execution_count": 147,
   "id": "85e0e88a",
   "metadata": {},
   "outputs": [
    {
     "data": {
      "text/html": [
       "<div>\n",
       "<style scoped>\n",
       "    .dataframe tbody tr th:only-of-type {\n",
       "        vertical-align: middle;\n",
       "    }\n",
       "\n",
       "    .dataframe tbody tr th {\n",
       "        vertical-align: top;\n",
       "    }\n",
       "\n",
       "    .dataframe thead th {\n",
       "        text-align: right;\n",
       "    }\n",
       "</style>\n",
       "<table border=\"1\" class=\"dataframe\">\n",
       "  <thead>\n",
       "    <tr style=\"text-align: right;\">\n",
       "      <th></th>\n",
       "      <th>Gender</th>\n",
       "      <th>Age</th>\n",
       "      <th>Height</th>\n",
       "      <th>Weight</th>\n",
       "      <th>family_history_with_overweight</th>\n",
       "      <th>high_calorie_consumption</th>\n",
       "      <th>vegetables_consumption</th>\n",
       "      <th>main_meals</th>\n",
       "      <th>food_between_meals</th>\n",
       "      <th>SMOKE</th>\n",
       "      <th>water_consumption</th>\n",
       "      <th>calories_monitoring</th>\n",
       "      <th>physical_activity_frequency</th>\n",
       "      <th>usage_of_tech_devices</th>\n",
       "      <th>alcohol_consumption</th>\n",
       "      <th>mode_of_transport</th>\n",
       "      <th>obesity_level</th>\n",
       "    </tr>\n",
       "  </thead>\n",
       "  <tbody>\n",
       "    <tr>\n",
       "      <th>0</th>\n",
       "      <td>Female</td>\n",
       "      <td>21</td>\n",
       "      <td>1.62</td>\n",
       "      <td>64.0</td>\n",
       "      <td>yes</td>\n",
       "      <td>no</td>\n",
       "      <td>2.0</td>\n",
       "      <td>3.0</td>\n",
       "      <td>Sometimes</td>\n",
       "      <td>no</td>\n",
       "      <td>2.0</td>\n",
       "      <td>no</td>\n",
       "      <td>0.0</td>\n",
       "      <td>1.0</td>\n",
       "      <td>no</td>\n",
       "      <td>Public_Transportation</td>\n",
       "      <td>Normal_Weight</td>\n",
       "    </tr>\n",
       "    <tr>\n",
       "      <th>1</th>\n",
       "      <td>Female</td>\n",
       "      <td>21</td>\n",
       "      <td>1.52</td>\n",
       "      <td>56.0</td>\n",
       "      <td>yes</td>\n",
       "      <td>no</td>\n",
       "      <td>3.0</td>\n",
       "      <td>3.0</td>\n",
       "      <td>Sometimes</td>\n",
       "      <td>yes</td>\n",
       "      <td>3.0</td>\n",
       "      <td>yes</td>\n",
       "      <td>3.0</td>\n",
       "      <td>0.0</td>\n",
       "      <td>Sometimes</td>\n",
       "      <td>Public_Transportation</td>\n",
       "      <td>Normal_Weight</td>\n",
       "    </tr>\n",
       "    <tr>\n",
       "      <th>2</th>\n",
       "      <td>Male</td>\n",
       "      <td>23</td>\n",
       "      <td>1.80</td>\n",
       "      <td>77.0</td>\n",
       "      <td>yes</td>\n",
       "      <td>no</td>\n",
       "      <td>2.0</td>\n",
       "      <td>3.0</td>\n",
       "      <td>Sometimes</td>\n",
       "      <td>no</td>\n",
       "      <td>2.0</td>\n",
       "      <td>no</td>\n",
       "      <td>2.0</td>\n",
       "      <td>1.0</td>\n",
       "      <td>Frequently</td>\n",
       "      <td>Public_Transportation</td>\n",
       "      <td>Normal_Weight</td>\n",
       "    </tr>\n",
       "    <tr>\n",
       "      <th>3</th>\n",
       "      <td>Male</td>\n",
       "      <td>27</td>\n",
       "      <td>1.80</td>\n",
       "      <td>87.0</td>\n",
       "      <td>no</td>\n",
       "      <td>no</td>\n",
       "      <td>3.0</td>\n",
       "      <td>3.0</td>\n",
       "      <td>Sometimes</td>\n",
       "      <td>no</td>\n",
       "      <td>2.0</td>\n",
       "      <td>no</td>\n",
       "      <td>2.0</td>\n",
       "      <td>0.0</td>\n",
       "      <td>Frequently</td>\n",
       "      <td>Walking</td>\n",
       "      <td>Overweight_Level_I</td>\n",
       "    </tr>\n",
       "    <tr>\n",
       "      <th>4</th>\n",
       "      <td>Male</td>\n",
       "      <td>22</td>\n",
       "      <td>1.78</td>\n",
       "      <td>89.8</td>\n",
       "      <td>no</td>\n",
       "      <td>no</td>\n",
       "      <td>2.0</td>\n",
       "      <td>1.0</td>\n",
       "      <td>Sometimes</td>\n",
       "      <td>no</td>\n",
       "      <td>2.0</td>\n",
       "      <td>no</td>\n",
       "      <td>0.0</td>\n",
       "      <td>0.0</td>\n",
       "      <td>Sometimes</td>\n",
       "      <td>Public_Transportation</td>\n",
       "      <td>Overweight_Level_II</td>\n",
       "    </tr>\n",
       "  </tbody>\n",
       "</table>\n",
       "</div>"
      ],
      "text/plain": [
       "   Gender  Age  Height  Weight family_history_with_overweight  \\\n",
       "0  Female   21    1.62    64.0                            yes   \n",
       "1  Female   21    1.52    56.0                            yes   \n",
       "2    Male   23    1.80    77.0                            yes   \n",
       "3    Male   27    1.80    87.0                             no   \n",
       "4    Male   22    1.78    89.8                             no   \n",
       "\n",
       "  high_calorie_consumption  vegetables_consumption  main_meals  \\\n",
       "0                       no                     2.0         3.0   \n",
       "1                       no                     3.0         3.0   \n",
       "2                       no                     2.0         3.0   \n",
       "3                       no                     3.0         3.0   \n",
       "4                       no                     2.0         1.0   \n",
       "\n",
       "  food_between_meals SMOKE  water_consumption calories_monitoring  \\\n",
       "0          Sometimes    no                2.0                  no   \n",
       "1          Sometimes   yes                3.0                 yes   \n",
       "2          Sometimes    no                2.0                  no   \n",
       "3          Sometimes    no                2.0                  no   \n",
       "4          Sometimes    no                2.0                  no   \n",
       "\n",
       "   physical_activity_frequency  usage_of_tech_devices alcohol_consumption  \\\n",
       "0                          0.0                    1.0                  no   \n",
       "1                          3.0                    0.0           Sometimes   \n",
       "2                          2.0                    1.0          Frequently   \n",
       "3                          2.0                    0.0          Frequently   \n",
       "4                          0.0                    0.0           Sometimes   \n",
       "\n",
       "       mode_of_transport        obesity_level  \n",
       "0  Public_Transportation        Normal_Weight  \n",
       "1  Public_Transportation        Normal_Weight  \n",
       "2  Public_Transportation        Normal_Weight  \n",
       "3                Walking   Overweight_Level_I  \n",
       "4  Public_Transportation  Overweight_Level_II  "
      ]
     },
     "execution_count": 147,
     "metadata": {},
     "output_type": "execute_result"
    }
   ],
   "source": [
    "obesity.head()"
   ]
  },
  {
   "cell_type": "code",
   "execution_count": 148,
   "id": "2c15020b",
   "metadata": {},
   "outputs": [
    {
     "data": {
      "text/plain": [
       "Index(['Gender', 'Age', 'Height', 'Weight', 'family_history_with_overweight',\n",
       "       'high_calorie_consumption', 'vegetables_consumption', 'main_meals',\n",
       "       'food_between_meals', 'SMOKE', 'water_consumption',\n",
       "       'calories_monitoring', 'physical_activity_frequency',\n",
       "       'usage_of_tech_devices', 'alcohol_consumption', 'mode_of_transport',\n",
       "       'obesity_level'],\n",
       "      dtype='object')"
      ]
     },
     "execution_count": 148,
     "metadata": {},
     "output_type": "execute_result"
    }
   ],
   "source": [
    "obesity.columns"
   ]
  },
  {
   "cell_type": "code",
   "execution_count": 149,
   "id": "6dd9c7d7",
   "metadata": {},
   "outputs": [
    {
     "data": {
      "text/plain": [
       "Gender                            category\n",
       "Age                                  int32\n",
       "Height                             float64\n",
       "Weight                             float64\n",
       "family_history_with_overweight      object\n",
       "high_calorie_consumption            object\n",
       "vegetables_consumption             float64\n",
       "main_meals                         float64\n",
       "food_between_meals                  object\n",
       "SMOKE                               object\n",
       "water_consumption                  float64\n",
       "calories_monitoring                 object\n",
       "physical_activity_frequency        float64\n",
       "usage_of_tech_devices              float64\n",
       "alcohol_consumption                 object\n",
       "mode_of_transport                   object\n",
       "obesity_level                       object\n",
       "dtype: object"
      ]
     },
     "execution_count": 149,
     "metadata": {},
     "output_type": "execute_result"
    }
   ],
   "source": [
    "obesity[\"Gender\"] = obesity[\"Gender\"].astype('category')\n",
    "obesity.dtypes"
   ]
  },
  {
   "cell_type": "code",
   "execution_count": 150,
   "id": "6082f40a",
   "metadata": {},
   "outputs": [
    {
     "data": {
      "text/html": [
       "<div>\n",
       "<style scoped>\n",
       "    .dataframe tbody tr th:only-of-type {\n",
       "        vertical-align: middle;\n",
       "    }\n",
       "\n",
       "    .dataframe tbody tr th {\n",
       "        vertical-align: top;\n",
       "    }\n",
       "\n",
       "    .dataframe thead th {\n",
       "        text-align: right;\n",
       "    }\n",
       "</style>\n",
       "<table border=\"1\" class=\"dataframe\">\n",
       "  <thead>\n",
       "    <tr style=\"text-align: right;\">\n",
       "      <th></th>\n",
       "      <th>Gender</th>\n",
       "      <th>Age</th>\n",
       "      <th>Height</th>\n",
       "      <th>Weight</th>\n",
       "      <th>family_history_with_overweight</th>\n",
       "      <th>high_calorie_consumption</th>\n",
       "      <th>vegetables_consumption</th>\n",
       "      <th>main_meals</th>\n",
       "      <th>food_between_meals</th>\n",
       "      <th>SMOKE</th>\n",
       "      <th>water_consumption</th>\n",
       "      <th>calories_monitoring</th>\n",
       "      <th>physical_activity_frequency</th>\n",
       "      <th>usage_of_tech_devices</th>\n",
       "      <th>alcohol_consumption</th>\n",
       "      <th>mode_of_transport</th>\n",
       "      <th>obesity_level</th>\n",
       "    </tr>\n",
       "  </thead>\n",
       "  <tbody>\n",
       "    <tr>\n",
       "      <th>0</th>\n",
       "      <td>0</td>\n",
       "      <td>21</td>\n",
       "      <td>1.62</td>\n",
       "      <td>64.0</td>\n",
       "      <td>yes</td>\n",
       "      <td>no</td>\n",
       "      <td>2.0</td>\n",
       "      <td>3.0</td>\n",
       "      <td>Sometimes</td>\n",
       "      <td>no</td>\n",
       "      <td>2.0</td>\n",
       "      <td>no</td>\n",
       "      <td>0.0</td>\n",
       "      <td>1.0</td>\n",
       "      <td>no</td>\n",
       "      <td>Public_Transportation</td>\n",
       "      <td>Normal_Weight</td>\n",
       "    </tr>\n",
       "    <tr>\n",
       "      <th>1</th>\n",
       "      <td>0</td>\n",
       "      <td>21</td>\n",
       "      <td>1.52</td>\n",
       "      <td>56.0</td>\n",
       "      <td>yes</td>\n",
       "      <td>no</td>\n",
       "      <td>3.0</td>\n",
       "      <td>3.0</td>\n",
       "      <td>Sometimes</td>\n",
       "      <td>yes</td>\n",
       "      <td>3.0</td>\n",
       "      <td>yes</td>\n",
       "      <td>3.0</td>\n",
       "      <td>0.0</td>\n",
       "      <td>Sometimes</td>\n",
       "      <td>Public_Transportation</td>\n",
       "      <td>Normal_Weight</td>\n",
       "    </tr>\n",
       "    <tr>\n",
       "      <th>2</th>\n",
       "      <td>1</td>\n",
       "      <td>23</td>\n",
       "      <td>1.80</td>\n",
       "      <td>77.0</td>\n",
       "      <td>yes</td>\n",
       "      <td>no</td>\n",
       "      <td>2.0</td>\n",
       "      <td>3.0</td>\n",
       "      <td>Sometimes</td>\n",
       "      <td>no</td>\n",
       "      <td>2.0</td>\n",
       "      <td>no</td>\n",
       "      <td>2.0</td>\n",
       "      <td>1.0</td>\n",
       "      <td>Frequently</td>\n",
       "      <td>Public_Transportation</td>\n",
       "      <td>Normal_Weight</td>\n",
       "    </tr>\n",
       "    <tr>\n",
       "      <th>3</th>\n",
       "      <td>1</td>\n",
       "      <td>27</td>\n",
       "      <td>1.80</td>\n",
       "      <td>87.0</td>\n",
       "      <td>no</td>\n",
       "      <td>no</td>\n",
       "      <td>3.0</td>\n",
       "      <td>3.0</td>\n",
       "      <td>Sometimes</td>\n",
       "      <td>no</td>\n",
       "      <td>2.0</td>\n",
       "      <td>no</td>\n",
       "      <td>2.0</td>\n",
       "      <td>0.0</td>\n",
       "      <td>Frequently</td>\n",
       "      <td>Walking</td>\n",
       "      <td>Overweight_Level_I</td>\n",
       "    </tr>\n",
       "    <tr>\n",
       "      <th>4</th>\n",
       "      <td>1</td>\n",
       "      <td>22</td>\n",
       "      <td>1.78</td>\n",
       "      <td>89.8</td>\n",
       "      <td>no</td>\n",
       "      <td>no</td>\n",
       "      <td>2.0</td>\n",
       "      <td>1.0</td>\n",
       "      <td>Sometimes</td>\n",
       "      <td>no</td>\n",
       "      <td>2.0</td>\n",
       "      <td>no</td>\n",
       "      <td>0.0</td>\n",
       "      <td>0.0</td>\n",
       "      <td>Sometimes</td>\n",
       "      <td>Public_Transportation</td>\n",
       "      <td>Overweight_Level_II</td>\n",
       "    </tr>\n",
       "  </tbody>\n",
       "</table>\n",
       "</div>"
      ],
      "text/plain": [
       "   Gender  Age  Height  Weight family_history_with_overweight  \\\n",
       "0       0   21    1.62    64.0                            yes   \n",
       "1       0   21    1.52    56.0                            yes   \n",
       "2       1   23    1.80    77.0                            yes   \n",
       "3       1   27    1.80    87.0                             no   \n",
       "4       1   22    1.78    89.8                             no   \n",
       "\n",
       "  high_calorie_consumption  vegetables_consumption  main_meals  \\\n",
       "0                       no                     2.0         3.0   \n",
       "1                       no                     3.0         3.0   \n",
       "2                       no                     2.0         3.0   \n",
       "3                       no                     3.0         3.0   \n",
       "4                       no                     2.0         1.0   \n",
       "\n",
       "  food_between_meals SMOKE  water_consumption calories_monitoring  \\\n",
       "0          Sometimes    no                2.0                  no   \n",
       "1          Sometimes   yes                3.0                 yes   \n",
       "2          Sometimes    no                2.0                  no   \n",
       "3          Sometimes    no                2.0                  no   \n",
       "4          Sometimes    no                2.0                  no   \n",
       "\n",
       "   physical_activity_frequency  usage_of_tech_devices alcohol_consumption  \\\n",
       "0                          0.0                    1.0                  no   \n",
       "1                          3.0                    0.0           Sometimes   \n",
       "2                          2.0                    1.0          Frequently   \n",
       "3                          2.0                    0.0          Frequently   \n",
       "4                          0.0                    0.0           Sometimes   \n",
       "\n",
       "       mode_of_transport        obesity_level  \n",
       "0  Public_Transportation        Normal_Weight  \n",
       "1  Public_Transportation        Normal_Weight  \n",
       "2  Public_Transportation        Normal_Weight  \n",
       "3                Walking   Overweight_Level_I  \n",
       "4  Public_Transportation  Overweight_Level_II  "
      ]
     },
     "execution_count": 150,
     "metadata": {},
     "output_type": "execute_result"
    }
   ],
   "source": [
    "obesity[\"Gender\"] = obesity[\"Gender\"].cat.codes\n",
    "obesity.head()"
   ]
  },
  {
   "cell_type": "code",
   "execution_count": 151,
   "id": "dc81fffb",
   "metadata": {},
   "outputs": [],
   "source": [
    "req_cols = ['Gender','family_history_with_overweight','high_calorie_consumption','food_between_meals','SMOKE','calories_monitoring','alcohol_consumption','mode_of_transport']#Status\n",
    "for col in req_cols:\n",
    "    obesity[col] = obesity[col].astype('category')\n",
    "    obesity[col] = obesity[col].cat.codes"
   ]
  },
  {
   "cell_type": "code",
   "execution_count": 93,
   "id": "cee5e508",
   "metadata": {},
   "outputs": [
    {
     "data": {
      "text/plain": [
       "Gender                               int8\n",
       "Age                                 int32\n",
       "Height                            float64\n",
       "Weight                            float64\n",
       "family_history_with_overweight       int8\n",
       "high_calorie_consumption             int8\n",
       "vegetables_consumption            float64\n",
       "main_meals                        float64\n",
       "food_between_meals                   int8\n",
       "SMOKE                                int8\n",
       "water_consumption                 float64\n",
       "calories_monitoring                  int8\n",
       "physical_activity_frequency       float64\n",
       "usage_of_tech_devices             float64\n",
       "alcohol_consumption                  int8\n",
       "mode_of_transport                    int8\n",
       "obesity_level                      object\n",
       "dtype: object"
      ]
     },
     "execution_count": 93,
     "metadata": {},
     "output_type": "execute_result"
    }
   ],
   "source": [
    "obesity.dtypes"
   ]
  },
  {
   "cell_type": "code",
   "execution_count": 152,
   "id": "0c654a5c",
   "metadata": {},
   "outputs": [
    {
     "data": {
      "text/html": [
       "<div>\n",
       "<style scoped>\n",
       "    .dataframe tbody tr th:only-of-type {\n",
       "        vertical-align: middle;\n",
       "    }\n",
       "\n",
       "    .dataframe tbody tr th {\n",
       "        vertical-align: top;\n",
       "    }\n",
       "\n",
       "    .dataframe thead th {\n",
       "        text-align: right;\n",
       "    }\n",
       "</style>\n",
       "<table border=\"1\" class=\"dataframe\">\n",
       "  <thead>\n",
       "    <tr style=\"text-align: right;\">\n",
       "      <th></th>\n",
       "      <th>Gender</th>\n",
       "      <th>Age</th>\n",
       "      <th>Height</th>\n",
       "      <th>Weight</th>\n",
       "      <th>family_history_with_overweight</th>\n",
       "      <th>high_calorie_consumption</th>\n",
       "      <th>vegetables_consumption</th>\n",
       "      <th>main_meals</th>\n",
       "      <th>food_between_meals</th>\n",
       "      <th>SMOKE</th>\n",
       "      <th>water_consumption</th>\n",
       "      <th>calories_monitoring</th>\n",
       "      <th>physical_activity_frequency</th>\n",
       "      <th>usage_of_tech_devices</th>\n",
       "      <th>alcohol_consumption</th>\n",
       "      <th>mode_of_transport</th>\n",
       "      <th>obesity_level</th>\n",
       "    </tr>\n",
       "  </thead>\n",
       "  <tbody>\n",
       "    <tr>\n",
       "      <th>0</th>\n",
       "      <td>0</td>\n",
       "      <td>21</td>\n",
       "      <td>1.62</td>\n",
       "      <td>64.0</td>\n",
       "      <td>1</td>\n",
       "      <td>0</td>\n",
       "      <td>2.0</td>\n",
       "      <td>3.0</td>\n",
       "      <td>2</td>\n",
       "      <td>0</td>\n",
       "      <td>2.0</td>\n",
       "      <td>0</td>\n",
       "      <td>0.0</td>\n",
       "      <td>1.0</td>\n",
       "      <td>3</td>\n",
       "      <td>3</td>\n",
       "      <td>Normal_Weight</td>\n",
       "    </tr>\n",
       "    <tr>\n",
       "      <th>1</th>\n",
       "      <td>0</td>\n",
       "      <td>21</td>\n",
       "      <td>1.52</td>\n",
       "      <td>56.0</td>\n",
       "      <td>1</td>\n",
       "      <td>0</td>\n",
       "      <td>3.0</td>\n",
       "      <td>3.0</td>\n",
       "      <td>2</td>\n",
       "      <td>1</td>\n",
       "      <td>3.0</td>\n",
       "      <td>1</td>\n",
       "      <td>3.0</td>\n",
       "      <td>0.0</td>\n",
       "      <td>2</td>\n",
       "      <td>3</td>\n",
       "      <td>Normal_Weight</td>\n",
       "    </tr>\n",
       "    <tr>\n",
       "      <th>2</th>\n",
       "      <td>1</td>\n",
       "      <td>23</td>\n",
       "      <td>1.80</td>\n",
       "      <td>77.0</td>\n",
       "      <td>1</td>\n",
       "      <td>0</td>\n",
       "      <td>2.0</td>\n",
       "      <td>3.0</td>\n",
       "      <td>2</td>\n",
       "      <td>0</td>\n",
       "      <td>2.0</td>\n",
       "      <td>0</td>\n",
       "      <td>2.0</td>\n",
       "      <td>1.0</td>\n",
       "      <td>1</td>\n",
       "      <td>3</td>\n",
       "      <td>Normal_Weight</td>\n",
       "    </tr>\n",
       "    <tr>\n",
       "      <th>3</th>\n",
       "      <td>1</td>\n",
       "      <td>27</td>\n",
       "      <td>1.80</td>\n",
       "      <td>87.0</td>\n",
       "      <td>0</td>\n",
       "      <td>0</td>\n",
       "      <td>3.0</td>\n",
       "      <td>3.0</td>\n",
       "      <td>2</td>\n",
       "      <td>0</td>\n",
       "      <td>2.0</td>\n",
       "      <td>0</td>\n",
       "      <td>2.0</td>\n",
       "      <td>0.0</td>\n",
       "      <td>1</td>\n",
       "      <td>4</td>\n",
       "      <td>Overweight_Level_I</td>\n",
       "    </tr>\n",
       "    <tr>\n",
       "      <th>4</th>\n",
       "      <td>1</td>\n",
       "      <td>22</td>\n",
       "      <td>1.78</td>\n",
       "      <td>89.8</td>\n",
       "      <td>0</td>\n",
       "      <td>0</td>\n",
       "      <td>2.0</td>\n",
       "      <td>1.0</td>\n",
       "      <td>2</td>\n",
       "      <td>0</td>\n",
       "      <td>2.0</td>\n",
       "      <td>0</td>\n",
       "      <td>0.0</td>\n",
       "      <td>0.0</td>\n",
       "      <td>2</td>\n",
       "      <td>3</td>\n",
       "      <td>Overweight_Level_II</td>\n",
       "    </tr>\n",
       "  </tbody>\n",
       "</table>\n",
       "</div>"
      ],
      "text/plain": [
       "   Gender  Age  Height  Weight  family_history_with_overweight  \\\n",
       "0       0   21    1.62    64.0                               1   \n",
       "1       0   21    1.52    56.0                               1   \n",
       "2       1   23    1.80    77.0                               1   \n",
       "3       1   27    1.80    87.0                               0   \n",
       "4       1   22    1.78    89.8                               0   \n",
       "\n",
       "   high_calorie_consumption  vegetables_consumption  main_meals  \\\n",
       "0                         0                     2.0         3.0   \n",
       "1                         0                     3.0         3.0   \n",
       "2                         0                     2.0         3.0   \n",
       "3                         0                     3.0         3.0   \n",
       "4                         0                     2.0         1.0   \n",
       "\n",
       "   food_between_meals  SMOKE  water_consumption  calories_monitoring  \\\n",
       "0                   2      0                2.0                    0   \n",
       "1                   2      1                3.0                    1   \n",
       "2                   2      0                2.0                    0   \n",
       "3                   2      0                2.0                    0   \n",
       "4                   2      0                2.0                    0   \n",
       "\n",
       "   physical_activity_frequency  usage_of_tech_devices  alcohol_consumption  \\\n",
       "0                          0.0                    1.0                    3   \n",
       "1                          3.0                    0.0                    2   \n",
       "2                          2.0                    1.0                    1   \n",
       "3                          2.0                    0.0                    1   \n",
       "4                          0.0                    0.0                    2   \n",
       "\n",
       "   mode_of_transport        obesity_level  \n",
       "0                  3        Normal_Weight  \n",
       "1                  3        Normal_Weight  \n",
       "2                  3        Normal_Weight  \n",
       "3                  4   Overweight_Level_I  \n",
       "4                  3  Overweight_Level_II  "
      ]
     },
     "execution_count": 152,
     "metadata": {},
     "output_type": "execute_result"
    }
   ],
   "source": [
    "obesity.head()"
   ]
  },
  {
   "cell_type": "markdown",
   "id": "09b9fad7",
   "metadata": {},
   "source": [
    "#### SPLITTING THE MODEL"
   ]
  },
  {
   "cell_type": "code",
   "execution_count": 159,
   "id": "5bc96de8",
   "metadata": {},
   "outputs": [],
   "source": [
    "X = obesity.drop('obesity_level', axis = 1) # independent variable\n",
    "Y = obesity['obesity_level'] # dependent variable"
   ]
  },
  {
   "cell_type": "code",
   "execution_count": 160,
   "id": "92fb9f15",
   "metadata": {},
   "outputs": [
    {
     "data": {
      "text/html": [
       "<div>\n",
       "<style scoped>\n",
       "    .dataframe tbody tr th:only-of-type {\n",
       "        vertical-align: middle;\n",
       "    }\n",
       "\n",
       "    .dataframe tbody tr th {\n",
       "        vertical-align: top;\n",
       "    }\n",
       "\n",
       "    .dataframe thead th {\n",
       "        text-align: right;\n",
       "    }\n",
       "</style>\n",
       "<table border=\"1\" class=\"dataframe\">\n",
       "  <thead>\n",
       "    <tr style=\"text-align: right;\">\n",
       "      <th></th>\n",
       "      <th>Gender</th>\n",
       "      <th>Age</th>\n",
       "      <th>Height</th>\n",
       "      <th>Weight</th>\n",
       "      <th>family_history_with_overweight</th>\n",
       "      <th>high_calorie_consumption</th>\n",
       "      <th>vegetables_consumption</th>\n",
       "      <th>main_meals</th>\n",
       "      <th>food_between_meals</th>\n",
       "      <th>SMOKE</th>\n",
       "      <th>water_consumption</th>\n",
       "      <th>calories_monitoring</th>\n",
       "      <th>physical_activity_frequency</th>\n",
       "      <th>usage_of_tech_devices</th>\n",
       "      <th>alcohol_consumption</th>\n",
       "      <th>mode_of_transport</th>\n",
       "    </tr>\n",
       "  </thead>\n",
       "  <tbody>\n",
       "    <tr>\n",
       "      <th>0</th>\n",
       "      <td>0</td>\n",
       "      <td>21</td>\n",
       "      <td>1.62</td>\n",
       "      <td>64.0</td>\n",
       "      <td>1</td>\n",
       "      <td>0</td>\n",
       "      <td>2.0</td>\n",
       "      <td>3.0</td>\n",
       "      <td>2</td>\n",
       "      <td>0</td>\n",
       "      <td>2.0</td>\n",
       "      <td>0</td>\n",
       "      <td>0.0</td>\n",
       "      <td>1.0</td>\n",
       "      <td>3</td>\n",
       "      <td>3</td>\n",
       "    </tr>\n",
       "    <tr>\n",
       "      <th>1</th>\n",
       "      <td>0</td>\n",
       "      <td>21</td>\n",
       "      <td>1.52</td>\n",
       "      <td>56.0</td>\n",
       "      <td>1</td>\n",
       "      <td>0</td>\n",
       "      <td>3.0</td>\n",
       "      <td>3.0</td>\n",
       "      <td>2</td>\n",
       "      <td>1</td>\n",
       "      <td>3.0</td>\n",
       "      <td>1</td>\n",
       "      <td>3.0</td>\n",
       "      <td>0.0</td>\n",
       "      <td>2</td>\n",
       "      <td>3</td>\n",
       "    </tr>\n",
       "    <tr>\n",
       "      <th>2</th>\n",
       "      <td>1</td>\n",
       "      <td>23</td>\n",
       "      <td>1.80</td>\n",
       "      <td>77.0</td>\n",
       "      <td>1</td>\n",
       "      <td>0</td>\n",
       "      <td>2.0</td>\n",
       "      <td>3.0</td>\n",
       "      <td>2</td>\n",
       "      <td>0</td>\n",
       "      <td>2.0</td>\n",
       "      <td>0</td>\n",
       "      <td>2.0</td>\n",
       "      <td>1.0</td>\n",
       "      <td>1</td>\n",
       "      <td>3</td>\n",
       "    </tr>\n",
       "    <tr>\n",
       "      <th>3</th>\n",
       "      <td>1</td>\n",
       "      <td>27</td>\n",
       "      <td>1.80</td>\n",
       "      <td>87.0</td>\n",
       "      <td>0</td>\n",
       "      <td>0</td>\n",
       "      <td>3.0</td>\n",
       "      <td>3.0</td>\n",
       "      <td>2</td>\n",
       "      <td>0</td>\n",
       "      <td>2.0</td>\n",
       "      <td>0</td>\n",
       "      <td>2.0</td>\n",
       "      <td>0.0</td>\n",
       "      <td>1</td>\n",
       "      <td>4</td>\n",
       "    </tr>\n",
       "    <tr>\n",
       "      <th>4</th>\n",
       "      <td>1</td>\n",
       "      <td>22</td>\n",
       "      <td>1.78</td>\n",
       "      <td>89.8</td>\n",
       "      <td>0</td>\n",
       "      <td>0</td>\n",
       "      <td>2.0</td>\n",
       "      <td>1.0</td>\n",
       "      <td>2</td>\n",
       "      <td>0</td>\n",
       "      <td>2.0</td>\n",
       "      <td>0</td>\n",
       "      <td>0.0</td>\n",
       "      <td>0.0</td>\n",
       "      <td>2</td>\n",
       "      <td>3</td>\n",
       "    </tr>\n",
       "  </tbody>\n",
       "</table>\n",
       "</div>"
      ],
      "text/plain": [
       "   Gender  Age  Height  Weight  family_history_with_overweight  \\\n",
       "0       0   21    1.62    64.0                               1   \n",
       "1       0   21    1.52    56.0                               1   \n",
       "2       1   23    1.80    77.0                               1   \n",
       "3       1   27    1.80    87.0                               0   \n",
       "4       1   22    1.78    89.8                               0   \n",
       "\n",
       "   high_calorie_consumption  vegetables_consumption  main_meals  \\\n",
       "0                         0                     2.0         3.0   \n",
       "1                         0                     3.0         3.0   \n",
       "2                         0                     2.0         3.0   \n",
       "3                         0                     3.0         3.0   \n",
       "4                         0                     2.0         1.0   \n",
       "\n",
       "   food_between_meals  SMOKE  water_consumption  calories_monitoring  \\\n",
       "0                   2      0                2.0                    0   \n",
       "1                   2      1                3.0                    1   \n",
       "2                   2      0                2.0                    0   \n",
       "3                   2      0                2.0                    0   \n",
       "4                   2      0                2.0                    0   \n",
       "\n",
       "   physical_activity_frequency  usage_of_tech_devices  alcohol_consumption  \\\n",
       "0                          0.0                    1.0                    3   \n",
       "1                          3.0                    0.0                    2   \n",
       "2                          2.0                    1.0                    1   \n",
       "3                          2.0                    0.0                    1   \n",
       "4                          0.0                    0.0                    2   \n",
       "\n",
       "   mode_of_transport  \n",
       "0                  3  \n",
       "1                  3  \n",
       "2                  3  \n",
       "3                  4  \n",
       "4                  3  "
      ]
     },
     "execution_count": 160,
     "metadata": {},
     "output_type": "execute_result"
    }
   ],
   "source": [
    "X.head()"
   ]
  },
  {
   "cell_type": "markdown",
   "id": "fd249a18",
   "metadata": {},
   "source": [
    "#### TRAINING THE MODEL"
   ]
  },
  {
   "cell_type": "code",
   "execution_count": 161,
   "id": "cd37de26",
   "metadata": {},
   "outputs": [],
   "source": [
    "X_train, X_test, Y_train, Y_test = train_test_split(X,Y,test_size = 0.20)"
   ]
  },
  {
   "cell_type": "code",
   "execution_count": 162,
   "id": "fceb270e",
   "metadata": {},
   "outputs": [
    {
     "data": {
      "text/plain": [
       "(1688, 423)"
      ]
     },
     "execution_count": 162,
     "metadata": {},
     "output_type": "execute_result"
    }
   ],
   "source": [
    "len(X_train),len(Y_test)"
   ]
  },
  {
   "cell_type": "markdown",
   "id": "bcae8b33",
   "metadata": {},
   "source": [
    "#### DECISION TREE CLASSIFIER"
   ]
  },
  {
   "cell_type": "code",
   "execution_count": 182,
   "id": "24db583c",
   "metadata": {},
   "outputs": [],
   "source": [
    "from sklearn.tree import DecisionTreeClassifier \n",
    "from sklearn.model_selection import train_test_split\n",
    "from sklearn.metrics import confusion_matrix, accuracy_score, classification_report"
   ]
  },
  {
   "cell_type": "code",
   "execution_count": 183,
   "id": "b02c4fb4",
   "metadata": {},
   "outputs": [
    {
     "name": "stdout",
     "output_type": "stream",
     "text": [
      "Accuracy on training set: 1.000\n",
      "Accuracy on test set: 0.929\n"
     ]
    }
   ],
   "source": [
    "tree = DecisionTreeClassifier(criterion='gini') # Gini - Default, #entropy\n",
    "tree.fit(X_train,Y_train)\n",
    "predictions = tree.predict(X_test)\n",
    "print(\"Accuracy on training set: {:.3f}\".format(tree.score(X_train,Y_train)))\n",
    "print(\"Accuracy on test set: {:.3f}\".format(tree.score(X_test,Y_test)))"
   ]
  },
  {
   "cell_type": "code",
   "execution_count": 165,
   "id": "b55ef051",
   "metadata": {},
   "outputs": [
    {
     "data": {
      "text/plain": [
       "array([[50,  5,  0,  0,  0,  0,  0],\n",
       "       [ 3, 47,  0,  0,  0,  8,  1],\n",
       "       [ 0,  0, 69,  2,  0,  0,  2],\n",
       "       [ 0,  0,  0, 65,  0,  0,  0],\n",
       "       [ 0,  0,  0,  1, 67,  0,  0],\n",
       "       [ 0,  3,  0,  0,  0, 44,  2],\n",
       "       [ 0,  0,  1,  0,  0,  0, 53]], dtype=int64)"
      ]
     },
     "execution_count": 165,
     "metadata": {},
     "output_type": "execute_result"
    }
   ],
   "source": [
    "confusion_matrix(Y_test, predictions)"
   ]
  },
  {
   "cell_type": "code",
   "execution_count": 166,
   "id": "19d2706b",
   "metadata": {},
   "outputs": [
    {
     "data": {
      "text/plain": [
       "0.933806146572104"
      ]
     },
     "execution_count": 166,
     "metadata": {},
     "output_type": "execute_result"
    }
   ],
   "source": [
    "accuracy_score(Y_test, predictions)"
   ]
  },
  {
   "cell_type": "markdown",
   "id": "0f7b7990",
   "metadata": {},
   "source": [
    "#### RANDOM FOREST ALGORITHM"
   ]
  },
  {
   "cell_type": "code",
   "execution_count": 168,
   "id": "8edbacd9",
   "metadata": {},
   "outputs": [],
   "source": [
    "from sklearn.ensemble import RandomForestClassifier"
   ]
  },
  {
   "cell_type": "code",
   "execution_count": 169,
   "id": "5b7d0772",
   "metadata": {},
   "outputs": [
    {
     "name": "stdout",
     "output_type": "stream",
     "text": [
      "Accuracy on training set: 1.000\n",
      "Accuracy on test set: 0.972\n"
     ]
    }
   ],
   "source": [
    "tree = RandomForestClassifier()\n",
    "tree.fit(X_train,Y_train)\n",
    "print(\"Accuracy on training set: {:.3f}\".format(tree.score(X_train,Y_train)))\n",
    "print(\"Accuracy on test set: {:.3f}\".format(tree.score(X_test,Y_test)))"
   ]
  },
  {
   "cell_type": "code",
   "execution_count": 171,
   "id": "491b6188",
   "metadata": {},
   "outputs": [
    {
     "data": {
      "text/plain": [
       "array([[53,  2,  0,  0,  0,  0,  0],\n",
       "       [ 0, 58,  0,  0,  0,  1,  0],\n",
       "       [ 0,  0, 71,  1,  0,  0,  1],\n",
       "       [ 0,  0,  0, 65,  0,  0,  0],\n",
       "       [ 0,  0,  0,  0, 68,  0,  0],\n",
       "       [ 0,  2,  0,  0,  0, 46,  1],\n",
       "       [ 0,  0,  2,  0,  0,  2, 50]], dtype=int64)"
      ]
     },
     "execution_count": 171,
     "metadata": {},
     "output_type": "execute_result"
    }
   ],
   "source": [
    "confusion_matrix(Y_test, predictions)"
   ]
  },
  {
   "cell_type": "code",
   "execution_count": 173,
   "id": "5e476b62",
   "metadata": {},
   "outputs": [
    {
     "data": {
      "text/plain": [
       "0.9716312056737588"
      ]
     },
     "execution_count": 173,
     "metadata": {},
     "output_type": "execute_result"
    }
   ],
   "source": [
    "accuracy_score(Y_test, predictions)"
   ]
  },
  {
   "cell_type": "markdown",
   "id": "2afdd798",
   "metadata": {},
   "source": [
    "#### KNN ALGORITHM"
   ]
  },
  {
   "cell_type": "code",
   "execution_count": 174,
   "id": "0f41058c",
   "metadata": {},
   "outputs": [],
   "source": [
    "from sklearn.neighbors import KNeighborsClassifier"
   ]
  },
  {
   "cell_type": "code",
   "execution_count": 176,
   "id": "ed157968",
   "metadata": {},
   "outputs": [
    {
     "data": {
      "text/plain": [
       "(45.94562003064057, 20.566963801203133)"
      ]
     },
     "execution_count": 176,
     "metadata": {},
     "output_type": "execute_result"
    }
   ],
   "source": [
    "from math import sqrt\n",
    "sqrt(len(obesity)), sqrt(len(Y_test))"
   ]
  },
  {
   "cell_type": "code",
   "execution_count": 179,
   "id": "c492347b",
   "metadata": {},
   "outputs": [
    {
     "data": {
      "text/plain": [
       "array(['Obesity_Type_I', 'Overweight_Level_II', 'Overweight_Level_I',\n",
       "       'Overweight_Level_I', 'Insufficient_Weight', 'Insufficient_Weight',\n",
       "       'Insufficient_Weight', 'Insufficient_Weight', 'Overweight_Level_I',\n",
       "       'Overweight_Level_II', 'Overweight_Level_II', 'Obesity_Type_I',\n",
       "       'Obesity_Type_I', 'Overweight_Level_I', 'Overweight_Level_I',\n",
       "       'Normal_Weight', 'Obesity_Type_III', 'Overweight_Level_I',\n",
       "       'Normal_Weight', 'Obesity_Type_III', 'Overweight_Level_II',\n",
       "       'Insufficient_Weight', 'Obesity_Type_III', 'Overweight_Level_I',\n",
       "       'Obesity_Type_III', 'Overweight_Level_II', 'Overweight_Level_II',\n",
       "       'Obesity_Type_III', 'Normal_Weight', 'Overweight_Level_I',\n",
       "       'Normal_Weight', 'Obesity_Type_III', 'Overweight_Level_I',\n",
       "       'Obesity_Type_II', 'Obesity_Type_II', 'Insufficient_Weight',\n",
       "       'Insufficient_Weight', 'Insufficient_Weight', 'Obesity_Type_I',\n",
       "       'Insufficient_Weight', 'Overweight_Level_II', 'Normal_Weight',\n",
       "       'Obesity_Type_II', 'Insufficient_Weight', 'Overweight_Level_I',\n",
       "       'Obesity_Type_II', 'Normal_Weight', 'Overweight_Level_I',\n",
       "       'Normal_Weight', 'Overweight_Level_II', 'Insufficient_Weight',\n",
       "       'Obesity_Type_II', 'Overweight_Level_I', 'Obesity_Type_II',\n",
       "       'Overweight_Level_II', 'Overweight_Level_I', 'Overweight_Level_I',\n",
       "       'Obesity_Type_I', 'Overweight_Level_II', 'Overweight_Level_II',\n",
       "       'Obesity_Type_III', 'Overweight_Level_II', 'Overweight_Level_II',\n",
       "       'Insufficient_Weight', 'Insufficient_Weight', 'Obesity_Type_III',\n",
       "       'Normal_Weight', 'Overweight_Level_I', 'Overweight_Level_I',\n",
       "       'Overweight_Level_II', 'Obesity_Type_I', 'Obesity_Type_II',\n",
       "       'Obesity_Type_II', 'Obesity_Type_I', 'Overweight_Level_I',\n",
       "       'Obesity_Type_III', 'Obesity_Type_II', 'Obesity_Type_II',\n",
       "       'Overweight_Level_I', 'Overweight_Level_II', 'Overweight_Level_II',\n",
       "       'Insufficient_Weight', 'Insufficient_Weight', 'Normal_Weight',\n",
       "       'Obesity_Type_I', 'Obesity_Type_I', 'Obesity_Type_II',\n",
       "       'Overweight_Level_I', 'Overweight_Level_I', 'Obesity_Type_I',\n",
       "       'Obesity_Type_II', 'Obesity_Type_II', 'Overweight_Level_I',\n",
       "       'Obesity_Type_I', 'Overweight_Level_I', 'Obesity_Type_II',\n",
       "       'Obesity_Type_III', 'Obesity_Type_II', 'Obesity_Type_III',\n",
       "       'Obesity_Type_III', 'Insufficient_Weight', 'Overweight_Level_I',\n",
       "       'Obesity_Type_II', 'Obesity_Type_I', 'Obesity_Type_I',\n",
       "       'Obesity_Type_II', 'Obesity_Type_III', 'Obesity_Type_I',\n",
       "       'Obesity_Type_I', 'Normal_Weight', 'Insufficient_Weight',\n",
       "       'Insufficient_Weight', 'Obesity_Type_II', 'Overweight_Level_II',\n",
       "       'Obesity_Type_III', 'Insufficient_Weight', 'Overweight_Level_I',\n",
       "       'Overweight_Level_II', 'Obesity_Type_III', 'Insufficient_Weight',\n",
       "       'Obesity_Type_III', 'Obesity_Type_III', 'Obesity_Type_II',\n",
       "       'Obesity_Type_I', 'Overweight_Level_II', 'Overweight_Level_II',\n",
       "       'Obesity_Type_I', 'Normal_Weight', 'Normal_Weight',\n",
       "       'Obesity_Type_II', 'Obesity_Type_III', 'Obesity_Type_I',\n",
       "       'Overweight_Level_I', 'Overweight_Level_II', 'Overweight_Level_II',\n",
       "       'Obesity_Type_II', 'Obesity_Type_I', 'Overweight_Level_I',\n",
       "       'Obesity_Type_II', 'Normal_Weight', 'Obesity_Type_III',\n",
       "       'Overweight_Level_II', 'Obesity_Type_II', 'Insufficient_Weight',\n",
       "       'Obesity_Type_III', 'Insufficient_Weight', 'Obesity_Type_I',\n",
       "       'Overweight_Level_I', 'Overweight_Level_I', 'Obesity_Type_I',\n",
       "       'Obesity_Type_III', 'Normal_Weight', 'Obesity_Type_I',\n",
       "       'Obesity_Type_II', 'Normal_Weight', 'Obesity_Type_III',\n",
       "       'Insufficient_Weight', 'Obesity_Type_II', 'Obesity_Type_II',\n",
       "       'Obesity_Type_I', 'Overweight_Level_I', 'Obesity_Type_III',\n",
       "       'Overweight_Level_I', 'Obesity_Type_I', 'Obesity_Type_I',\n",
       "       'Insufficient_Weight', 'Overweight_Level_I', 'Overweight_Level_I',\n",
       "       'Insufficient_Weight', 'Obesity_Type_II', 'Obesity_Type_I',\n",
       "       'Obesity_Type_I', 'Overweight_Level_II', 'Obesity_Type_II',\n",
       "       'Obesity_Type_I', 'Normal_Weight', 'Overweight_Level_I',\n",
       "       'Obesity_Type_II', 'Overweight_Level_I', 'Obesity_Type_III',\n",
       "       'Obesity_Type_III', 'Obesity_Type_II', 'Normal_Weight',\n",
       "       'Insufficient_Weight', 'Obesity_Type_I', 'Obesity_Type_I',\n",
       "       'Obesity_Type_III', 'Overweight_Level_I', 'Obesity_Type_II',\n",
       "       'Overweight_Level_II', 'Insufficient_Weight', 'Overweight_Level_I',\n",
       "       'Obesity_Type_III', 'Obesity_Type_I', 'Obesity_Type_II',\n",
       "       'Overweight_Level_II', 'Normal_Weight', 'Obesity_Type_III',\n",
       "       'Insufficient_Weight', 'Obesity_Type_II', 'Normal_Weight',\n",
       "       'Overweight_Level_II', 'Overweight_Level_II',\n",
       "       'Insufficient_Weight', 'Obesity_Type_III', 'Insufficient_Weight',\n",
       "       'Insufficient_Weight', 'Insufficient_Weight', 'Obesity_Type_III',\n",
       "       'Insufficient_Weight', 'Obesity_Type_II', 'Insufficient_Weight',\n",
       "       'Obesity_Type_II', 'Obesity_Type_III', 'Obesity_Type_I',\n",
       "       'Obesity_Type_I', 'Obesity_Type_I', 'Overweight_Level_I',\n",
       "       'Obesity_Type_II', 'Overweight_Level_I', 'Obesity_Type_III',\n",
       "       'Obesity_Type_II', 'Normal_Weight', 'Obesity_Type_III',\n",
       "       'Obesity_Type_II', 'Overweight_Level_I', 'Obesity_Type_III',\n",
       "       'Obesity_Type_III', 'Normal_Weight', 'Overweight_Level_II',\n",
       "       'Obesity_Type_III', 'Obesity_Type_III', 'Insufficient_Weight',\n",
       "       'Obesity_Type_III', 'Overweight_Level_II', 'Insufficient_Weight',\n",
       "       'Obesity_Type_I', 'Obesity_Type_I', 'Obesity_Type_I',\n",
       "       'Overweight_Level_II', 'Overweight_Level_II', 'Overweight_Level_I',\n",
       "       'Obesity_Type_I', 'Insufficient_Weight', 'Obesity_Type_II',\n",
       "       'Insufficient_Weight', 'Insufficient_Weight',\n",
       "       'Insufficient_Weight', 'Obesity_Type_I', 'Obesity_Type_III',\n",
       "       'Normal_Weight', 'Normal_Weight', 'Overweight_Level_I',\n",
       "       'Insufficient_Weight', 'Obesity_Type_I', 'Obesity_Type_I',\n",
       "       'Overweight_Level_I', 'Obesity_Type_II', 'Overweight_Level_II',\n",
       "       'Overweight_Level_II', 'Obesity_Type_I', 'Obesity_Type_III',\n",
       "       'Obesity_Type_I', 'Overweight_Level_I', 'Obesity_Type_II',\n",
       "       'Obesity_Type_I', 'Obesity_Type_II', 'Obesity_Type_II',\n",
       "       'Obesity_Type_II', 'Overweight_Level_I', 'Obesity_Type_I',\n",
       "       'Overweight_Level_II', 'Insufficient_Weight', 'Overweight_Level_I',\n",
       "       'Overweight_Level_II', 'Obesity_Type_I', 'Normal_Weight',\n",
       "       'Obesity_Type_II', 'Insufficient_Weight', 'Normal_Weight',\n",
       "       'Obesity_Type_I', 'Overweight_Level_II', 'Insufficient_Weight',\n",
       "       'Obesity_Type_I', 'Obesity_Type_I', 'Insufficient_Weight',\n",
       "       'Overweight_Level_II', 'Overweight_Level_I', 'Obesity_Type_I',\n",
       "       'Overweight_Level_II', 'Overweight_Level_II', 'Obesity_Type_II',\n",
       "       'Obesity_Type_III', 'Obesity_Type_II', 'Overweight_Level_II',\n",
       "       'Obesity_Type_III', 'Obesity_Type_I', 'Obesity_Type_III',\n",
       "       'Obesity_Type_III', 'Insufficient_Weight', 'Insufficient_Weight',\n",
       "       'Obesity_Type_I', 'Obesity_Type_III', 'Obesity_Type_II',\n",
       "       'Normal_Weight', 'Obesity_Type_II', 'Obesity_Type_III',\n",
       "       'Obesity_Type_III', 'Normal_Weight', 'Obesity_Type_II',\n",
       "       'Insufficient_Weight', 'Obesity_Type_II', 'Obesity_Type_II',\n",
       "       'Obesity_Type_III', 'Normal_Weight', 'Obesity_Type_II',\n",
       "       'Obesity_Type_III', 'Overweight_Level_I', 'Obesity_Type_III',\n",
       "       'Overweight_Level_I', 'Obesity_Type_I', 'Obesity_Type_I',\n",
       "       'Obesity_Type_I', 'Obesity_Type_I', 'Overweight_Level_I',\n",
       "       'Obesity_Type_II', 'Obesity_Type_I', 'Obesity_Type_II',\n",
       "       'Obesity_Type_II', 'Obesity_Type_I', 'Obesity_Type_II',\n",
       "       'Insufficient_Weight', 'Obesity_Type_III', 'Overweight_Level_I',\n",
       "       'Obesity_Type_III', 'Obesity_Type_I', 'Normal_Weight',\n",
       "       'Obesity_Type_II', 'Insufficient_Weight', 'Obesity_Type_II',\n",
       "       'Obesity_Type_III', 'Obesity_Type_III', 'Obesity_Type_II',\n",
       "       'Obesity_Type_I', 'Overweight_Level_II', 'Obesity_Type_I',\n",
       "       'Obesity_Type_III', 'Normal_Weight', 'Overweight_Level_I',\n",
       "       'Obesity_Type_I', 'Obesity_Type_II', 'Obesity_Type_III',\n",
       "       'Insufficient_Weight', 'Overweight_Level_II', 'Obesity_Type_I',\n",
       "       'Obesity_Type_III', 'Overweight_Level_II', 'Obesity_Type_II',\n",
       "       'Obesity_Type_III', 'Insufficient_Weight', 'Obesity_Type_III',\n",
       "       'Obesity_Type_I', 'Insufficient_Weight', 'Obesity_Type_I',\n",
       "       'Obesity_Type_I', 'Insufficient_Weight', 'Obesity_Type_I',\n",
       "       'Obesity_Type_I', 'Normal_Weight', 'Obesity_Type_III',\n",
       "       'Insufficient_Weight', 'Obesity_Type_I', 'Overweight_Level_I',\n",
       "       'Obesity_Type_I', 'Normal_Weight', 'Obesity_Type_III',\n",
       "       'Overweight_Level_I', 'Obesity_Type_II', 'Insufficient_Weight',\n",
       "       'Obesity_Type_I', 'Obesity_Type_I', 'Obesity_Type_III',\n",
       "       'Obesity_Type_II', 'Normal_Weight', 'Obesity_Type_III',\n",
       "       'Obesity_Type_II', 'Overweight_Level_I', 'Obesity_Type_III',\n",
       "       'Insufficient_Weight', 'Insufficient_Weight', 'Overweight_Level_I',\n",
       "       'Obesity_Type_I', 'Insufficient_Weight', 'Obesity_Type_I',\n",
       "       'Obesity_Type_II', 'Obesity_Type_III', 'Overweight_Level_II',\n",
       "       'Obesity_Type_I', 'Overweight_Level_II', 'Overweight_Level_II',\n",
       "       'Normal_Weight', 'Overweight_Level_II', 'Insufficient_Weight',\n",
       "       'Obesity_Type_III', 'Obesity_Type_I', 'Obesity_Type_II',\n",
       "       'Obesity_Type_III', 'Overweight_Level_I', 'Insufficient_Weight',\n",
       "       'Overweight_Level_II', 'Insufficient_Weight',\n",
       "       'Insufficient_Weight', 'Obesity_Type_III', 'Obesity_Type_I',\n",
       "       'Overweight_Level_I', 'Obesity_Type_III', 'Obesity_Type_I',\n",
       "       'Overweight_Level_II', 'Insufficient_Weight', 'Normal_Weight',\n",
       "       'Obesity_Type_II', 'Overweight_Level_II', 'Obesity_Type_III'],\n",
       "      dtype=object)"
      ]
     },
     "execution_count": 179,
     "metadata": {},
     "output_type": "execute_result"
    }
   ],
   "source": [
    "classifier = KNeighborsClassifier(n_neighbors = 21,  metric='euclidean')\n",
    "classifier.fit(X_train,Y_train)\n",
    "Y_pred = classifier.predict(X_test)\n",
    "Y_pred"
   ]
  },
  {
   "cell_type": "code",
   "execution_count": 180,
   "id": "2c3ae0d2",
   "metadata": {},
   "outputs": [
    {
     "name": "stdout",
     "output_type": "stream",
     "text": [
      "[[51  4  0  0  0  0  0]\n",
      " [13 24  2  0  0 15  5]\n",
      " [ 0  0 63  3  1  1  5]\n",
      " [ 0  0  1 62  2  0  0]\n",
      " [ 0  0  0  1 67  0  0]\n",
      " [ 0  4  4  0  0 35  6]\n",
      " [ 0  3  8  2  0  6 35]]\n"
     ]
    }
   ],
   "source": [
    "cm = confusion_matrix(Y_test,Y_pred)\n",
    "print(cm)"
   ]
  },
  {
   "cell_type": "code",
   "execution_count": 181,
   "id": "5b105381",
   "metadata": {},
   "outputs": [
    {
     "name": "stdout",
     "output_type": "stream",
     "text": [
      "0.7966903073286052\n"
     ]
    }
   ],
   "source": [
    "print(accuracy_score(Y_test,Y_pred))"
   ]
  }
 ],
 "metadata": {
  "kernelspec": {
   "display_name": "Python 3 (ipykernel)",
   "language": "python",
   "name": "python3"
  },
  "language_info": {
   "codemirror_mode": {
    "name": "ipython",
    "version": 3
   },
   "file_extension": ".py",
   "mimetype": "text/x-python",
   "name": "python",
   "nbconvert_exporter": "python",
   "pygments_lexer": "ipython3",
   "version": "3.9.12"
  }
 },
 "nbformat": 4,
 "nbformat_minor": 5
}
